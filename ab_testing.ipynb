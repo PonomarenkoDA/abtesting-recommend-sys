{
 "cells": [
  {
   "cell_type": "markdown",
   "metadata": {},
   "source": [
    "# <u> A/B - тестирование: рекомендательная система<u> \n",
    "    \n",
    "## Методика тестирования:\n",
    "Команда внедрила в приложение умную систему рекомендации товаров – предполагается, что такая система поможет пользователям эффективнее работать с приложением и лучше находить необходимые товары. Чтобы проверить эффективность системы рекомендаций, был проведен АБ-тест. В группе 1 (тестовой) оказались пользователи с новой системой рекомендаций, в группе 0 (контрольной) пользователи со старой версией приложения, где нет рекомендации товаров.\n",
    "\n",
    "## Исходные данные:\n",
    "    \n",
    "1. **ab_users_data** - таблица c информацией о заказах:\n",
    "\n",
    "    `user_id` - позаказный идентификатор пользователя; <br/>\n",
    "    `order_id` - уникальный идентификатор заказа (номер чека);<br/>\n",
    "    `action` - действие пользователя: create_order или cancel_order;<br/>\n",
    "    `time` - время совершения действия;<br/> \n",
    "    `date` - дата совершения действия;<br/> \n",
    "    `group` - принадлежность пользователя к группе при АБ-тесте.<br/>\n",
    "\n",
    "\n",
    "2. **ab_orders** - таблица с информацией о составе заказов:\n",
    "\n",
    "    `order_id` - уникальный идентификатор заказа (номер чека);<br/>\n",
    "    `creation_time` - время создания заказа;<br/> \n",
    "    `product_ids` - состав каждого заказа (в виде списка id товаров).<br/> \n",
    "    \n",
    "\n",
    "3. **ab_products** - таблица с информацией товарных позициях:\n",
    "\n",
    "    `product_id` - уникальный идентификатор товара;<br/>\n",
    "    `name` - название товара;<br/> \n",
    "    `price` - цена товара.<br/> \n",
    "    \n",
    "## Задача исследования:\n",
    "Сделать аналитическое заключение с ответом на вопрос, стоит ли включать новую систему рекомендаций на всех пользователей."
   ]
  },
  {
   "cell_type": "code",
   "execution_count": 2,
   "metadata": {},
   "outputs": [],
   "source": [
    "# Импорт библиотек\n",
    "\n",
    "import pandas as pd\n",
    "import numpy as np\n",
    "\n",
    "from statsmodels.api import qqplot\n",
    "import scipy.stats as st\n",
    "import pingouin as pg\n",
    "\n",
    "import requests\n",
    "from urllib.parse import urlencode\n",
    "\n",
    "import seaborn as sns\n",
    "import matplotlib.pyplot as plt\n",
    "%matplotlib inline"
   ]
  },
  {
   "cell_type": "code",
   "execution_count": 3,
   "metadata": {},
   "outputs": [],
   "source": [
    "# Общие графические параметры\n",
    "\n",
    "setting = sns.set(\n",
    "    font_scale=1.4,\n",
    "    style=\"white\",\n",
    "    rc={'figure.figsize':(15,7)}\n",
    "        )"
   ]
  },
  {
   "cell_type": "code",
   "execution_count": 4,
   "metadata": {},
   "outputs": [],
   "source": [
    "# URL-адреса исходных датасетов (для загрузки по API)\n",
    "\n",
    "pb_keys = {\n",
    "           'ab_users_data': 'https://disk.yandex.ru/d/4qY27tJ23G_B1g',\n",
    "           'ab_orders':     'https://disk.yandex.ru/d/prdO8FDQx7lzCg', \n",
    "           'ab_products':   'https://disk.yandex.ru/d/atwrlmB_wu-fHA'\n",
    "          }"
   ]
  },
  {
   "cell_type": "code",
   "execution_count": 5,
   "metadata": {},
   "outputs": [],
   "source": [
    "# Функция загрузки csv-файла по API\n",
    "\n",
    "def load_datasets(public_url: str) -> pd.DataFrame():\n",
    "\n",
    "    base_url  = 'https://cloud-api.yandex.net/v1/disk/public/resources/download?'\n",
    "    final_url = base_url + urlencode(dict(public_key=public_url))\n",
    "    response  = requests.get(final_url) \n",
    "    download_url = response.json()['href']\n",
    "\n",
    "    return pd.read_csv(download_url)"
   ]
  },
  {
   "cell_type": "code",
   "execution_count": 6,
   "metadata": {},
   "outputs": [],
   "source": [
    "# Статистический вывод\n",
    "\n",
    "def statistic_result(p_value: float) -> print:\n",
    "    alpha = 0.05 # уровень значимости \n",
    "    if p_value < alpha:\n",
    "        print(\"\\nОтклоняем нулевую гипотезу H0\")\n",
    "    else:\n",
    "        print(\"\\nНе отклоняем нулевую гипотезу H0\")"
   ]
  },
  {
   "cell_type": "markdown",
   "metadata": {},
   "source": [
    "## EDA-анализ\n",
    "\n",
    "Получение основной информации о датафреймах и изучение особенностей данных в них."
   ]
  },
  {
   "cell_type": "markdown",
   "metadata": {},
   "source": [
    "### 1. История заказов пользователей (ab_users_data)"
   ]
  },
  {
   "cell_type": "code",
   "execution_count": 7,
   "metadata": {},
   "outputs": [
    {
     "data": {
      "text/html": [
       "<div>\n",
       "<style scoped>\n",
       "    .dataframe tbody tr th:only-of-type {\n",
       "        vertical-align: middle;\n",
       "    }\n",
       "\n",
       "    .dataframe tbody tr th {\n",
       "        vertical-align: top;\n",
       "    }\n",
       "\n",
       "    .dataframe thead th {\n",
       "        text-align: right;\n",
       "    }\n",
       "</style>\n",
       "<table border=\"1\" class=\"dataframe\">\n",
       "  <thead>\n",
       "    <tr style=\"text-align: right;\">\n",
       "      <th></th>\n",
       "      <th>user_id</th>\n",
       "      <th>order_id</th>\n",
       "      <th>action</th>\n",
       "      <th>time</th>\n",
       "      <th>date</th>\n",
       "      <th>group</th>\n",
       "    </tr>\n",
       "  </thead>\n",
       "  <tbody>\n",
       "    <tr>\n",
       "      <th>0</th>\n",
       "      <td>964</td>\n",
       "      <td>1255</td>\n",
       "      <td>create_order</td>\n",
       "      <td>2022-08-26 00:00:19.000000</td>\n",
       "      <td>2022-08-26</td>\n",
       "      <td>0</td>\n",
       "    </tr>\n",
       "    <tr>\n",
       "      <th>1</th>\n",
       "      <td>965</td>\n",
       "      <td>1256</td>\n",
       "      <td>create_order</td>\n",
       "      <td>2022-08-26 00:02:21.000000</td>\n",
       "      <td>2022-08-26</td>\n",
       "      <td>1</td>\n",
       "    </tr>\n",
       "    <tr>\n",
       "      <th>2</th>\n",
       "      <td>964</td>\n",
       "      <td>1257</td>\n",
       "      <td>create_order</td>\n",
       "      <td>2022-08-26 00:02:27.000000</td>\n",
       "      <td>2022-08-26</td>\n",
       "      <td>0</td>\n",
       "    </tr>\n",
       "    <tr>\n",
       "      <th>3</th>\n",
       "      <td>966</td>\n",
       "      <td>1258</td>\n",
       "      <td>create_order</td>\n",
       "      <td>2022-08-26 00:02:56.000000</td>\n",
       "      <td>2022-08-26</td>\n",
       "      <td>0</td>\n",
       "    </tr>\n",
       "    <tr>\n",
       "      <th>4</th>\n",
       "      <td>967</td>\n",
       "      <td>1259</td>\n",
       "      <td>create_order</td>\n",
       "      <td>2022-08-26 00:03:37.000000</td>\n",
       "      <td>2022-08-26</td>\n",
       "      <td>1</td>\n",
       "    </tr>\n",
       "  </tbody>\n",
       "</table>\n",
       "</div>"
      ],
      "text/plain": [
       "   user_id  order_id        action                        time        date  \\\n",
       "0      964      1255  create_order  2022-08-26 00:00:19.000000  2022-08-26   \n",
       "1      965      1256  create_order  2022-08-26 00:02:21.000000  2022-08-26   \n",
       "2      964      1257  create_order  2022-08-26 00:02:27.000000  2022-08-26   \n",
       "3      966      1258  create_order  2022-08-26 00:02:56.000000  2022-08-26   \n",
       "4      967      1259  create_order  2022-08-26 00:03:37.000000  2022-08-26   \n",
       "\n",
       "   group  \n",
       "0      0  \n",
       "1      1  \n",
       "2      0  \n",
       "3      0  \n",
       "4      1  "
      ]
     },
     "execution_count": 7,
     "metadata": {},
     "output_type": "execute_result"
    }
   ],
   "source": [
    "ab_users_data = load_datasets(pb_keys['ab_users_data'])\n",
    "ab_users_data.head()"
   ]
  },
  {
   "cell_type": "code",
   "execution_count": 8,
   "metadata": {},
   "outputs": [
    {
     "data": {
      "text/html": [
       "<div>\n",
       "<style scoped>\n",
       "    .dataframe tbody tr th:only-of-type {\n",
       "        vertical-align: middle;\n",
       "    }\n",
       "\n",
       "    .dataframe tbody tr th {\n",
       "        vertical-align: top;\n",
       "    }\n",
       "\n",
       "    .dataframe thead th {\n",
       "        text-align: right;\n",
       "    }\n",
       "</style>\n",
       "<table border=\"1\" class=\"dataframe\">\n",
       "  <thead>\n",
       "    <tr style=\"text-align: right;\">\n",
       "      <th></th>\n",
       "      <th>user_id</th>\n",
       "      <th>order_id</th>\n",
       "      <th>action</th>\n",
       "      <th>time</th>\n",
       "      <th>date</th>\n",
       "      <th>group</th>\n",
       "    </tr>\n",
       "  </thead>\n",
       "  <tbody>\n",
       "    <tr>\n",
       "      <th>0</th>\n",
       "      <td>964</td>\n",
       "      <td>1255</td>\n",
       "      <td>create_order</td>\n",
       "      <td>2022-08-26 00:00:19.000000</td>\n",
       "      <td>2022-08-26</td>\n",
       "      <td>control</td>\n",
       "    </tr>\n",
       "    <tr>\n",
       "      <th>1</th>\n",
       "      <td>965</td>\n",
       "      <td>1256</td>\n",
       "      <td>create_order</td>\n",
       "      <td>2022-08-26 00:02:21.000000</td>\n",
       "      <td>2022-08-26</td>\n",
       "      <td>test</td>\n",
       "    </tr>\n",
       "    <tr>\n",
       "      <th>2</th>\n",
       "      <td>964</td>\n",
       "      <td>1257</td>\n",
       "      <td>create_order</td>\n",
       "      <td>2022-08-26 00:02:27.000000</td>\n",
       "      <td>2022-08-26</td>\n",
       "      <td>control</td>\n",
       "    </tr>\n",
       "    <tr>\n",
       "      <th>3</th>\n",
       "      <td>966</td>\n",
       "      <td>1258</td>\n",
       "      <td>create_order</td>\n",
       "      <td>2022-08-26 00:02:56.000000</td>\n",
       "      <td>2022-08-26</td>\n",
       "      <td>control</td>\n",
       "    </tr>\n",
       "    <tr>\n",
       "      <th>4</th>\n",
       "      <td>967</td>\n",
       "      <td>1259</td>\n",
       "      <td>create_order</td>\n",
       "      <td>2022-08-26 00:03:37.000000</td>\n",
       "      <td>2022-08-26</td>\n",
       "      <td>test</td>\n",
       "    </tr>\n",
       "  </tbody>\n",
       "</table>\n",
       "</div>"
      ],
      "text/plain": [
       "   user_id  order_id        action                        time        date  \\\n",
       "0      964      1255  create_order  2022-08-26 00:00:19.000000  2022-08-26   \n",
       "1      965      1256  create_order  2022-08-26 00:02:21.000000  2022-08-26   \n",
       "2      964      1257  create_order  2022-08-26 00:02:27.000000  2022-08-26   \n",
       "3      966      1258  create_order  2022-08-26 00:02:56.000000  2022-08-26   \n",
       "4      967      1259  create_order  2022-08-26 00:03:37.000000  2022-08-26   \n",
       "\n",
       "     group  \n",
       "0  control  \n",
       "1     test  \n",
       "2  control  \n",
       "3  control  \n",
       "4     test  "
      ]
     },
     "execution_count": 8,
     "metadata": {},
     "output_type": "execute_result"
    }
   ],
   "source": [
    "# Переименуем группы\n",
    "\n",
    "ab_users_data['group'] = np.where(ab_users_data.group == 1, 'test', 'control')\n",
    "ab_users_data.head()"
   ]
  },
  {
   "cell_type": "code",
   "execution_count": 9,
   "metadata": {},
   "outputs": [
    {
     "data": {
      "text/plain": [
       "(4337, 6)"
      ]
     },
     "execution_count": 9,
     "metadata": {},
     "output_type": "execute_result"
    }
   ],
   "source": [
    "# Размер df\n",
    "\n",
    "ab_users_data.shape"
   ]
  },
  {
   "cell_type": "code",
   "execution_count": 10,
   "metadata": {},
   "outputs": [
    {
     "data": {
      "text/plain": [
       "user_id     0\n",
       "order_id    0\n",
       "action      0\n",
       "time        0\n",
       "date        0\n",
       "group       0\n",
       "dtype: int64"
      ]
     },
     "execution_count": 10,
     "metadata": {},
     "output_type": "execute_result"
    }
   ],
   "source": [
    "# Пропущенные значения не обнаружены\n",
    "\n",
    "ab_users_data.isna().sum()"
   ]
  },
  {
   "cell_type": "code",
   "execution_count": 11,
   "metadata": {},
   "outputs": [
    {
     "data": {
      "text/plain": [
       "user_id     1017\n",
       "order_id    4123\n",
       "action         2\n",
       "time        4312\n",
       "date          14\n",
       "group          2\n",
       "dtype: int64"
      ]
     },
     "execution_count": 11,
     "metadata": {},
     "output_type": "execute_result"
    }
   ],
   "source": [
    "# Число уникальных пользователей и категорий\n",
    "\n",
    "ab_users_data.nunique()"
   ]
  },
  {
   "cell_type": "code",
   "execution_count": 12,
   "metadata": {},
   "outputs": [
    {
     "data": {
      "text/plain": [
       "0"
      ]
     },
     "execution_count": 12,
     "metadata": {},
     "output_type": "execute_result"
    }
   ],
   "source": [
    "# Полные дубликаты в данных отсутсвуют \n",
    "\n",
    "ab_users_data.duplicated().sum()"
   ]
  },
  {
   "cell_type": "code",
   "execution_count": 13,
   "metadata": {},
   "outputs": [
    {
     "data": {
      "text/html": [
       "<div>\n",
       "<style scoped>\n",
       "    .dataframe tbody tr th:only-of-type {\n",
       "        vertical-align: middle;\n",
       "    }\n",
       "\n",
       "    .dataframe tbody tr th {\n",
       "        vertical-align: top;\n",
       "    }\n",
       "\n",
       "    .dataframe thead th {\n",
       "        text-align: right;\n",
       "    }\n",
       "</style>\n",
       "<table border=\"1\" class=\"dataframe\">\n",
       "  <thead>\n",
       "    <tr style=\"text-align: right;\">\n",
       "      <th></th>\n",
       "      <th>user_id</th>\n",
       "      <th>order_id</th>\n",
       "      <th>action</th>\n",
       "      <th>time</th>\n",
       "      <th>date</th>\n",
       "      <th>group</th>\n",
       "    </tr>\n",
       "  </thead>\n",
       "  <tbody>\n",
       "    <tr>\n",
       "      <th>8</th>\n",
       "      <td>966</td>\n",
       "      <td>1258</td>\n",
       "      <td>cancel_order</td>\n",
       "      <td>2022-08-26 00:08:25.486419</td>\n",
       "      <td>2022-08-26</td>\n",
       "      <td>control</td>\n",
       "    </tr>\n",
       "    <tr>\n",
       "      <th>39</th>\n",
       "      <td>993</td>\n",
       "      <td>1296</td>\n",
       "      <td>cancel_order</td>\n",
       "      <td>2022-08-26 00:44:18.150475</td>\n",
       "      <td>2022-08-26</td>\n",
       "      <td>control</td>\n",
       "    </tr>\n",
       "    <tr>\n",
       "      <th>47</th>\n",
       "      <td>995</td>\n",
       "      <td>1298</td>\n",
       "      <td>cancel_order</td>\n",
       "      <td>2022-08-26 00:49:51.514240</td>\n",
       "      <td>2022-08-26</td>\n",
       "      <td>control</td>\n",
       "    </tr>\n",
       "    <tr>\n",
       "      <th>54</th>\n",
       "      <td>1002</td>\n",
       "      <td>1308</td>\n",
       "      <td>cancel_order</td>\n",
       "      <td>2022-08-26 00:58:01.924112</td>\n",
       "      <td>2022-08-26</td>\n",
       "      <td>test</td>\n",
       "    </tr>\n",
       "    <tr>\n",
       "      <th>60</th>\n",
       "      <td>1008</td>\n",
       "      <td>1315</td>\n",
       "      <td>cancel_order</td>\n",
       "      <td>2022-08-26 01:06:11.292953</td>\n",
       "      <td>2022-08-26</td>\n",
       "      <td>control</td>\n",
       "    </tr>\n",
       "  </tbody>\n",
       "</table>\n",
       "</div>"
      ],
      "text/plain": [
       "    user_id  order_id        action                        time        date  \\\n",
       "8       966      1258  cancel_order  2022-08-26 00:08:25.486419  2022-08-26   \n",
       "39      993      1296  cancel_order  2022-08-26 00:44:18.150475  2022-08-26   \n",
       "47      995      1298  cancel_order  2022-08-26 00:49:51.514240  2022-08-26   \n",
       "54     1002      1308  cancel_order  2022-08-26 00:58:01.924112  2022-08-26   \n",
       "60     1008      1315  cancel_order  2022-08-26 01:06:11.292953  2022-08-26   \n",
       "\n",
       "      group  \n",
       "8   control  \n",
       "39  control  \n",
       "47  control  \n",
       "54     test  \n",
       "60  control  "
      ]
     },
     "execution_count": 13,
     "metadata": {},
     "output_type": "execute_result"
    }
   ],
   "source": [
    "# Неуникальные заказы = отмененные заказы\n",
    "\n",
    "ab_users_data[ab_users_data[['user_id', 'order_id']].duplicated()].head()"
   ]
  },
  {
   "cell_type": "markdown",
   "metadata": {},
   "source": [
    "**Примечание:** при подсчете метрик не будем учитывать отмененные заказы"
   ]
  },
  {
   "cell_type": "code",
   "execution_count": 14,
   "metadata": {},
   "outputs": [],
   "source": [
    "# Отмененные заказы\n",
    "\n",
    "canceled_orders = ab_users_data[ab_users_data[['user_id', 'order_id']].duplicated()].order_id"
   ]
  },
  {
   "cell_type": "code",
   "execution_count": 15,
   "metadata": {},
   "outputs": [
    {
     "name": "stdout",
     "output_type": "stream",
     "text": [
      "<class 'pandas.core.frame.DataFrame'>\n",
      "RangeIndex: 4337 entries, 0 to 4336\n",
      "Data columns (total 6 columns):\n",
      " #   Column    Non-Null Count  Dtype \n",
      "---  ------    --------------  ----- \n",
      " 0   user_id   4337 non-null   int64 \n",
      " 1   order_id  4337 non-null   int64 \n",
      " 2   action    4337 non-null   object\n",
      " 3   time      4337 non-null   object\n",
      " 4   date      4337 non-null   object\n",
      " 5   group     4337 non-null   object\n",
      "dtypes: int64(2), object(4)"
     ]
    }
   ],
   "source": [
    "# Основаная информация о фрейме\n",
    "\n",
    "ab_users_data.info(memory_usage=False)"
   ]
  },
  {
   "cell_type": "markdown",
   "metadata": {},
   "source": [
    "### 2. Подробная информация о составе заказа (ab_orders)"
   ]
  },
  {
   "cell_type": "code",
   "execution_count": 16,
   "metadata": {},
   "outputs": [
    {
     "data": {
      "text/html": [
       "<div>\n",
       "<style scoped>\n",
       "    .dataframe tbody tr th:only-of-type {\n",
       "        vertical-align: middle;\n",
       "    }\n",
       "\n",
       "    .dataframe tbody tr th {\n",
       "        vertical-align: top;\n",
       "    }\n",
       "\n",
       "    .dataframe thead th {\n",
       "        text-align: right;\n",
       "    }\n",
       "</style>\n",
       "<table border=\"1\" class=\"dataframe\">\n",
       "  <thead>\n",
       "    <tr style=\"text-align: right;\">\n",
       "      <th></th>\n",
       "      <th>order_id</th>\n",
       "      <th>creation_time</th>\n",
       "      <th>product_ids</th>\n",
       "    </tr>\n",
       "  </thead>\n",
       "  <tbody>\n",
       "    <tr>\n",
       "      <th>0</th>\n",
       "      <td>1255</td>\n",
       "      <td>2022-08-26 00:00:19.000000</td>\n",
       "      <td>{75, 22, 53, 84}</td>\n",
       "    </tr>\n",
       "    <tr>\n",
       "      <th>1</th>\n",
       "      <td>1256</td>\n",
       "      <td>2022-08-26 00:02:21.000000</td>\n",
       "      <td>{56, 76, 39}</td>\n",
       "    </tr>\n",
       "    <tr>\n",
       "      <th>2</th>\n",
       "      <td>1257</td>\n",
       "      <td>2022-08-26 00:02:27.000000</td>\n",
       "      <td>{76, 34, 41, 38}</td>\n",
       "    </tr>\n",
       "    <tr>\n",
       "      <th>3</th>\n",
       "      <td>1258</td>\n",
       "      <td>2022-08-26 00:02:56.000000</td>\n",
       "      <td>{74, 6}</td>\n",
       "    </tr>\n",
       "    <tr>\n",
       "      <th>4</th>\n",
       "      <td>1259</td>\n",
       "      <td>2022-08-26 00:03:37.000000</td>\n",
       "      <td>{20, 45, 67, 26}</td>\n",
       "    </tr>\n",
       "    <tr>\n",
       "      <th>5</th>\n",
       "      <td>1261</td>\n",
       "      <td>2022-08-26 00:05:35.000000</td>\n",
       "      <td>{30, 35, 69, 6}</td>\n",
       "    </tr>\n",
       "    <tr>\n",
       "      <th>6</th>\n",
       "      <td>1262</td>\n",
       "      <td>2022-08-26 00:06:25.000000</td>\n",
       "      <td>{23, 69, 45, 33}</td>\n",
       "    </tr>\n",
       "    <tr>\n",
       "      <th>7</th>\n",
       "      <td>1263</td>\n",
       "      <td>2022-08-26 00:08:22.000000</td>\n",
       "      <td>{22, 23, 5}</td>\n",
       "    </tr>\n",
       "    <tr>\n",
       "      <th>8</th>\n",
       "      <td>1264</td>\n",
       "      <td>2022-08-26 00:10:53.000000</td>\n",
       "      <td>{60, 5, 33, 69}</td>\n",
       "    </tr>\n",
       "    <tr>\n",
       "      <th>9</th>\n",
       "      <td>1265</td>\n",
       "      <td>2022-08-26 00:11:21.000000</td>\n",
       "      <td>{19, 35, 74, 42, 25}</td>\n",
       "    </tr>\n",
       "  </tbody>\n",
       "</table>\n",
       "</div>"
      ],
      "text/plain": [
       "   order_id               creation_time           product_ids\n",
       "0      1255  2022-08-26 00:00:19.000000      {75, 22, 53, 84}\n",
       "1      1256  2022-08-26 00:02:21.000000          {56, 76, 39}\n",
       "2      1257  2022-08-26 00:02:27.000000      {76, 34, 41, 38}\n",
       "3      1258  2022-08-26 00:02:56.000000               {74, 6}\n",
       "4      1259  2022-08-26 00:03:37.000000      {20, 45, 67, 26}\n",
       "5      1261  2022-08-26 00:05:35.000000       {30, 35, 69, 6}\n",
       "6      1262  2022-08-26 00:06:25.000000      {23, 69, 45, 33}\n",
       "7      1263  2022-08-26 00:08:22.000000           {22, 23, 5}\n",
       "8      1264  2022-08-26 00:10:53.000000       {60, 5, 33, 69}\n",
       "9      1265  2022-08-26 00:11:21.000000  {19, 35, 74, 42, 25}"
      ]
     },
     "execution_count": 16,
     "metadata": {},
     "output_type": "execute_result"
    }
   ],
   "source": [
    "ab_orders = load_datasets(pb_keys['ab_orders'])\n",
    "ab_orders.head(10)"
   ]
  },
  {
   "cell_type": "code",
   "execution_count": 17,
   "metadata": {},
   "outputs": [
    {
     "data": {
      "text/plain": [
       "(4123, 3)"
      ]
     },
     "execution_count": 17,
     "metadata": {},
     "output_type": "execute_result"
    }
   ],
   "source": [
    "# Размер df\n",
    "\n",
    "ab_orders.shape"
   ]
  },
  {
   "cell_type": "code",
   "execution_count": 18,
   "metadata": {},
   "outputs": [
    {
     "data": {
      "text/plain": [
       "order_id         0\n",
       "creation_time    0\n",
       "product_ids      0\n",
       "dtype: int64"
      ]
     },
     "execution_count": 18,
     "metadata": {},
     "output_type": "execute_result"
    }
   ],
   "source": [
    "# Пропущенные значения не обнаружены\n",
    "\n",
    "ab_orders.isna().sum()"
   ]
  },
  {
   "cell_type": "code",
   "execution_count": 19,
   "metadata": {},
   "outputs": [
    {
     "data": {
      "text/plain": [
       "order_id         4123\n",
       "creation_time    4098\n",
       "product_ids      3877\n",
       "dtype: int64"
      ]
     },
     "execution_count": 19,
     "metadata": {},
     "output_type": "execute_result"
    }
   ],
   "source": [
    "# Число уникальных пользователей и категорий\n",
    "\n",
    "ab_orders.nunique()"
   ]
  },
  {
   "cell_type": "code",
   "execution_count": 20,
   "metadata": {},
   "outputs": [
    {
     "data": {
      "text/plain": [
       "0"
      ]
     },
     "execution_count": 20,
     "metadata": {},
     "output_type": "execute_result"
    }
   ],
   "source": [
    "# Полные дубликаты в данных отсутсвуют \n",
    "\n",
    "ab_orders.duplicated().sum()"
   ]
  },
  {
   "cell_type": "code",
   "execution_count": 21,
   "metadata": {},
   "outputs": [
    {
     "data": {
      "text/html": [
       "<div>\n",
       "<style scoped>\n",
       "    .dataframe tbody tr th:only-of-type {\n",
       "        vertical-align: middle;\n",
       "    }\n",
       "\n",
       "    .dataframe tbody tr th {\n",
       "        vertical-align: top;\n",
       "    }\n",
       "\n",
       "    .dataframe thead th {\n",
       "        text-align: right;\n",
       "    }\n",
       "</style>\n",
       "<table border=\"1\" class=\"dataframe\">\n",
       "  <thead>\n",
       "    <tr style=\"text-align: right;\">\n",
       "      <th></th>\n",
       "      <th>order_id</th>\n",
       "      <th>creation_time</th>\n",
       "      <th>product_ids</th>\n",
       "    </tr>\n",
       "  </thead>\n",
       "  <tbody>\n",
       "    <tr>\n",
       "      <th>48</th>\n",
       "      <td>1310</td>\n",
       "      <td>2022-08-26 00:53:03.000000</td>\n",
       "      <td>{56, 31, 63}</td>\n",
       "    </tr>\n",
       "    <tr>\n",
       "      <th>71</th>\n",
       "      <td>1340</td>\n",
       "      <td>2022-08-26 01:24:04.000000</td>\n",
       "      <td>{42, 51, 76, 69, 74}</td>\n",
       "    </tr>\n",
       "    <tr>\n",
       "      <th>164</th>\n",
       "      <td>1455</td>\n",
       "      <td>2022-08-26 05:10:26.000000</td>\n",
       "      <td>{57, 20, 32}</td>\n",
       "    </tr>\n",
       "    <tr>\n",
       "      <th>355</th>\n",
       "      <td>1678</td>\n",
       "      <td>2022-08-26 09:38:22.000000</td>\n",
       "      <td>{15, 58, 74}</td>\n",
       "    </tr>\n",
       "    <tr>\n",
       "      <th>382</th>\n",
       "      <td>1709</td>\n",
       "      <td>2022-08-26 10:04:06.000000</td>\n",
       "      <td>{22, 62, 24, 16}</td>\n",
       "    </tr>\n",
       "  </tbody>\n",
       "</table>\n",
       "</div>"
      ],
      "text/plain": [
       "     order_id               creation_time           product_ids\n",
       "48       1310  2022-08-26 00:53:03.000000          {56, 31, 63}\n",
       "71       1340  2022-08-26 01:24:04.000000  {42, 51, 76, 69, 74}\n",
       "164      1455  2022-08-26 05:10:26.000000          {57, 20, 32}\n",
       "355      1678  2022-08-26 09:38:22.000000          {15, 58, 74}\n",
       "382      1709  2022-08-26 10:04:06.000000      {22, 62, 24, 16}"
      ]
     },
     "execution_count": 21,
     "metadata": {},
     "output_type": "execute_result"
    }
   ],
   "source": [
    "ab_orders[ab_orders['creation_time'].duplicated()].head()"
   ]
  },
  {
   "cell_type": "code",
   "execution_count": 22,
   "metadata": {},
   "outputs": [
    {
     "data": {
      "text/html": [
       "<div>\n",
       "<style scoped>\n",
       "    .dataframe tbody tr th:only-of-type {\n",
       "        vertical-align: middle;\n",
       "    }\n",
       "\n",
       "    .dataframe tbody tr th {\n",
       "        vertical-align: top;\n",
       "    }\n",
       "\n",
       "    .dataframe thead th {\n",
       "        text-align: right;\n",
       "    }\n",
       "</style>\n",
       "<table border=\"1\" class=\"dataframe\">\n",
       "  <thead>\n",
       "    <tr style=\"text-align: right;\">\n",
       "      <th></th>\n",
       "      <th>order_id</th>\n",
       "      <th>creation_time</th>\n",
       "      <th>product_ids</th>\n",
       "    </tr>\n",
       "  </thead>\n",
       "  <tbody>\n",
       "    <tr>\n",
       "      <th>47</th>\n",
       "      <td>1311</td>\n",
       "      <td>2022-08-26 00:53:03.000000</td>\n",
       "      <td>{63, 32}</td>\n",
       "    </tr>\n",
       "    <tr>\n",
       "      <th>48</th>\n",
       "      <td>1310</td>\n",
       "      <td>2022-08-26 00:53:03.000000</td>\n",
       "      <td>{56, 31, 63}</td>\n",
       "    </tr>\n",
       "  </tbody>\n",
       "</table>\n",
       "</div>"
      ],
      "text/plain": [
       "    order_id               creation_time   product_ids\n",
       "47      1311  2022-08-26 00:53:03.000000      {63, 32}\n",
       "48      1310  2022-08-26 00:53:03.000000  {56, 31, 63}"
      ]
     },
     "execution_count": 22,
     "metadata": {},
     "output_type": "execute_result"
    }
   ],
   "source": [
    "# Неуникальные времена создания заказов = заказы созданные в одно время\n",
    "\n",
    "ab_orders[ab_orders.creation_time == '2022-08-26 00:53:03.000000']"
   ]
  },
  {
   "cell_type": "code",
   "execution_count": 23,
   "metadata": {},
   "outputs": [
    {
     "name": "stdout",
     "output_type": "stream",
     "text": [
      "<class 'pandas.core.frame.DataFrame'>\n",
      "RangeIndex: 4123 entries, 0 to 4122\n",
      "Data columns (total 3 columns):\n",
      " #   Column         Non-Null Count  Dtype \n",
      "---  ------         --------------  ----- \n",
      " 0   order_id       4123 non-null   int64 \n",
      " 1   creation_time  4123 non-null   object\n",
      " 2   product_ids    4123 non-null   object\n",
      "dtypes: int64(1), object(2)"
     ]
    }
   ],
   "source": [
    "# Основаная информация о фрейме\n",
    "\n",
    "ab_orders.info(memory_usage=False)"
   ]
  },
  {
   "cell_type": "markdown",
   "metadata": {},
   "source": [
    "### 3. Подробная информация о продуктах (ab_products)"
   ]
  },
  {
   "cell_type": "code",
   "execution_count": 24,
   "metadata": {},
   "outputs": [
    {
     "data": {
      "text/html": [
       "<div>\n",
       "<style scoped>\n",
       "    .dataframe tbody tr th:only-of-type {\n",
       "        vertical-align: middle;\n",
       "    }\n",
       "\n",
       "    .dataframe tbody tr th {\n",
       "        vertical-align: top;\n",
       "    }\n",
       "\n",
       "    .dataframe thead th {\n",
       "        text-align: right;\n",
       "    }\n",
       "</style>\n",
       "<table border=\"1\" class=\"dataframe\">\n",
       "  <thead>\n",
       "    <tr style=\"text-align: right;\">\n",
       "      <th></th>\n",
       "      <th>product_id</th>\n",
       "      <th>name</th>\n",
       "      <th>price</th>\n",
       "    </tr>\n",
       "  </thead>\n",
       "  <tbody>\n",
       "    <tr>\n",
       "      <th>0</th>\n",
       "      <td>1</td>\n",
       "      <td>сахар</td>\n",
       "      <td>150.0</td>\n",
       "    </tr>\n",
       "    <tr>\n",
       "      <th>1</th>\n",
       "      <td>2</td>\n",
       "      <td>чай зеленый в пакетиках</td>\n",
       "      <td>50.0</td>\n",
       "    </tr>\n",
       "    <tr>\n",
       "      <th>2</th>\n",
       "      <td>3</td>\n",
       "      <td>вода негазированная</td>\n",
       "      <td>80.4</td>\n",
       "    </tr>\n",
       "    <tr>\n",
       "      <th>3</th>\n",
       "      <td>4</td>\n",
       "      <td>леденцы</td>\n",
       "      <td>45.5</td>\n",
       "    </tr>\n",
       "    <tr>\n",
       "      <th>4</th>\n",
       "      <td>5</td>\n",
       "      <td>кофе 3 в 1</td>\n",
       "      <td>15.0</td>\n",
       "    </tr>\n",
       "    <tr>\n",
       "      <th>5</th>\n",
       "      <td>6</td>\n",
       "      <td>сухарики</td>\n",
       "      <td>25.0</td>\n",
       "    </tr>\n",
       "    <tr>\n",
       "      <th>6</th>\n",
       "      <td>7</td>\n",
       "      <td>кофе зерновой</td>\n",
       "      <td>350.8</td>\n",
       "    </tr>\n",
       "    <tr>\n",
       "      <th>7</th>\n",
       "      <td>8</td>\n",
       "      <td>сушки</td>\n",
       "      <td>30.4</td>\n",
       "    </tr>\n",
       "    <tr>\n",
       "      <th>8</th>\n",
       "      <td>9</td>\n",
       "      <td>чай черный листовой</td>\n",
       "      <td>83.5</td>\n",
       "    </tr>\n",
       "    <tr>\n",
       "      <th>9</th>\n",
       "      <td>10</td>\n",
       "      <td>семечки</td>\n",
       "      <td>12.0</td>\n",
       "    </tr>\n",
       "  </tbody>\n",
       "</table>\n",
       "</div>"
      ],
      "text/plain": [
       "   product_id                     name  price\n",
       "0           1                    сахар  150.0\n",
       "1           2  чай зеленый в пакетиках   50.0\n",
       "2           3      вода негазированная   80.4\n",
       "3           4                  леденцы   45.5\n",
       "4           5               кофе 3 в 1   15.0\n",
       "5           6                 сухарики   25.0\n",
       "6           7            кофе зерновой  350.8\n",
       "7           8                    сушки   30.4\n",
       "8           9      чай черный листовой   83.5\n",
       "9          10                  семечки   12.0"
      ]
     },
     "execution_count": 24,
     "metadata": {},
     "output_type": "execute_result"
    }
   ],
   "source": [
    "ab_products = load_datasets(pb_keys['ab_products'])\n",
    "ab_products.head(10)"
   ]
  },
  {
   "cell_type": "code",
   "execution_count": 25,
   "metadata": {},
   "outputs": [
    {
     "data": {
      "text/plain": [
       "(87, 3)"
      ]
     },
     "execution_count": 25,
     "metadata": {},
     "output_type": "execute_result"
    }
   ],
   "source": [
    "# Размер df\n",
    "\n",
    "ab_products.shape"
   ]
  },
  {
   "cell_type": "code",
   "execution_count": 26,
   "metadata": {},
   "outputs": [
    {
     "data": {
      "text/plain": [
       "product_id    0\n",
       "name          0\n",
       "price         0\n",
       "dtype: int64"
      ]
     },
     "execution_count": 26,
     "metadata": {},
     "output_type": "execute_result"
    }
   ],
   "source": [
    "# Пропущенные значения не обнаружены\n",
    "\n",
    "ab_products.isna().sum()"
   ]
  },
  {
   "cell_type": "code",
   "execution_count": 27,
   "metadata": {},
   "outputs": [
    {
     "data": {
      "text/plain": [
       "product_id    87\n",
       "name          87\n",
       "price         63\n",
       "dtype: int64"
      ]
     },
     "execution_count": 27,
     "metadata": {},
     "output_type": "execute_result"
    }
   ],
   "source": [
    "# Число уникальных пользователей и категорий\n",
    "\n",
    "ab_products.nunique()"
   ]
  },
  {
   "cell_type": "code",
   "execution_count": 28,
   "metadata": {},
   "outputs": [
    {
     "data": {
      "text/plain": [
       "0"
      ]
     },
     "execution_count": 28,
     "metadata": {},
     "output_type": "execute_result"
    }
   ],
   "source": [
    "# Полные дубликаты в данных отсутсвуют \n",
    "\n",
    "ab_products.duplicated().sum()"
   ]
  },
  {
   "cell_type": "code",
   "execution_count": 29,
   "metadata": {},
   "outputs": [
    {
     "name": "stdout",
     "output_type": "stream",
     "text": [
      "<class 'pandas.core.frame.DataFrame'>\n",
      "RangeIndex: 87 entries, 0 to 86\n",
      "Data columns (total 3 columns):\n",
      " #   Column      Non-Null Count  Dtype  \n",
      "---  ------      --------------  -----  \n",
      " 0   product_id  87 non-null     int64  \n",
      " 1   name        87 non-null     object \n",
      " 2   price       87 non-null     float64\n",
      "dtypes: float64(1), int64(1), object(1)"
     ]
    }
   ],
   "source": [
    "# Основная информация о фрейме\n",
    "\n",
    "ab_products.info(memory_usage=False)"
   ]
  },
  {
   "cell_type": "markdown",
   "metadata": {},
   "source": [
    "# <u> Анализ результатов A/B - тестирования<u>\n",
    "\n",
    "## 1. Доля отмененных заказов\n",
    "    \n",
    "Предположим, что новая система рекомендаций положительно влияет на пользовательский опыт использования приложения. Для проверки этой гипотезы посмотрим на долю отмененных заказов в группах. Имеются две категориальные переменные → **воспользуемся критерием хи-квадрат**\n",
    "\n",
    "- $H_0$: доли отмененных заказов в группах равны\n",
    "- $H_1$: доли отмененных заказов в группах не равны"
   ]
  },
  {
   "cell_type": "code",
   "execution_count": 30,
   "metadata": {},
   "outputs": [
    {
     "data": {
      "text/html": [
       "<div>\n",
       "<style scoped>\n",
       "    .dataframe tbody tr th:only-of-type {\n",
       "        vertical-align: middle;\n",
       "    }\n",
       "\n",
       "    .dataframe tbody tr th {\n",
       "        vertical-align: top;\n",
       "    }\n",
       "\n",
       "    .dataframe thead th {\n",
       "        text-align: right;\n",
       "    }\n",
       "</style>\n",
       "<table border=\"1\" class=\"dataframe\">\n",
       "  <thead>\n",
       "    <tr style=\"text-align: right;\">\n",
       "      <th></th>\n",
       "      <th>user_id</th>\n",
       "      <th>order_id</th>\n",
       "      <th>action</th>\n",
       "      <th>time</th>\n",
       "      <th>date</th>\n",
       "      <th>group</th>\n",
       "    </tr>\n",
       "  </thead>\n",
       "  <tbody>\n",
       "    <tr>\n",
       "      <th>0</th>\n",
       "      <td>964</td>\n",
       "      <td>1255</td>\n",
       "      <td>create_order</td>\n",
       "      <td>2022-08-26 00:00:19.000000</td>\n",
       "      <td>2022-08-26</td>\n",
       "      <td>control</td>\n",
       "    </tr>\n",
       "    <tr>\n",
       "      <th>1</th>\n",
       "      <td>965</td>\n",
       "      <td>1256</td>\n",
       "      <td>create_order</td>\n",
       "      <td>2022-08-26 00:02:21.000000</td>\n",
       "      <td>2022-08-26</td>\n",
       "      <td>test</td>\n",
       "    </tr>\n",
       "    <tr>\n",
       "      <th>2</th>\n",
       "      <td>964</td>\n",
       "      <td>1257</td>\n",
       "      <td>create_order</td>\n",
       "      <td>2022-08-26 00:02:27.000000</td>\n",
       "      <td>2022-08-26</td>\n",
       "      <td>control</td>\n",
       "    </tr>\n",
       "    <tr>\n",
       "      <th>3</th>\n",
       "      <td>966</td>\n",
       "      <td>1258</td>\n",
       "      <td>create_order</td>\n",
       "      <td>2022-08-26 00:02:56.000000</td>\n",
       "      <td>2022-08-26</td>\n",
       "      <td>control</td>\n",
       "    </tr>\n",
       "    <tr>\n",
       "      <th>4</th>\n",
       "      <td>967</td>\n",
       "      <td>1259</td>\n",
       "      <td>create_order</td>\n",
       "      <td>2022-08-26 00:03:37.000000</td>\n",
       "      <td>2022-08-26</td>\n",
       "      <td>test</td>\n",
       "    </tr>\n",
       "  </tbody>\n",
       "</table>\n",
       "</div>"
      ],
      "text/plain": [
       "   user_id  order_id        action                        time        date  \\\n",
       "0      964      1255  create_order  2022-08-26 00:00:19.000000  2022-08-26   \n",
       "1      965      1256  create_order  2022-08-26 00:02:21.000000  2022-08-26   \n",
       "2      964      1257  create_order  2022-08-26 00:02:27.000000  2022-08-26   \n",
       "3      966      1258  create_order  2022-08-26 00:02:56.000000  2022-08-26   \n",
       "4      967      1259  create_order  2022-08-26 00:03:37.000000  2022-08-26   \n",
       "\n",
       "     group  \n",
       "0  control  \n",
       "1     test  \n",
       "2  control  \n",
       "3  control  \n",
       "4     test  "
      ]
     },
     "execution_count": 30,
     "metadata": {},
     "output_type": "execute_result"
    }
   ],
   "source": [
    "ab_users_data.head()"
   ]
  },
  {
   "cell_type": "code",
   "execution_count": 31,
   "metadata": {},
   "outputs": [
    {
     "data": {
      "text/html": [
       "<div>\n",
       "<style scoped>\n",
       "    .dataframe tbody tr th:only-of-type {\n",
       "        vertical-align: middle;\n",
       "    }\n",
       "\n",
       "    .dataframe tbody tr th {\n",
       "        vertical-align: top;\n",
       "    }\n",
       "\n",
       "    .dataframe thead th {\n",
       "        text-align: right;\n",
       "    }\n",
       "</style>\n",
       "<table border=\"1\" class=\"dataframe\">\n",
       "  <thead>\n",
       "    <tr style=\"text-align: right;\">\n",
       "      <th>action</th>\n",
       "      <th>cancel_order</th>\n",
       "      <th>create_order</th>\n",
       "    </tr>\n",
       "    <tr>\n",
       "      <th>group</th>\n",
       "      <th></th>\n",
       "      <th></th>\n",
       "    </tr>\n",
       "  </thead>\n",
       "  <tbody>\n",
       "    <tr>\n",
       "      <th>control</th>\n",
       "      <td>82</td>\n",
       "      <td>1609</td>\n",
       "    </tr>\n",
       "    <tr>\n",
       "      <th>test</th>\n",
       "      <td>132</td>\n",
       "      <td>2514</td>\n",
       "    </tr>\n",
       "  </tbody>\n",
       "</table>\n",
       "</div>"
      ],
      "text/plain": [
       "action   cancel_order  create_order\n",
       "group                              \n",
       "control            82          1609\n",
       "test              132          2514"
      ]
     },
     "execution_count": 31,
     "metadata": {},
     "output_type": "execute_result"
    }
   ],
   "source": [
    "# Создадим таблицу сопряженности \n",
    "\n",
    "pd.crosstab(ab_users_data.group, ab_users_data.action)"
   ]
  },
  {
   "cell_type": "code",
   "execution_count": 32,
   "metadata": {},
   "outputs": [],
   "source": [
    "# Хи-квадрат тест независимости переменных в таблице сопряженности (без поправки Йетса)\n",
    "\n",
    "stat, p, dof, expected  = st.chi2_contingency(pd.crosstab(ab_users_data.group, ab_users_data.action), correction=False)"
   ]
  },
  {
   "cell_type": "code",
   "execution_count": 33,
   "metadata": {},
   "outputs": [
    {
     "name": "stdout",
     "output_type": "stream",
     "text": [
      "Statistic: 0.043\n",
      "p-value:   0.836\n"
     ]
    }
   ],
   "source": [
    "# Статистика и p-value (> 0.05)\n",
    "\n",
    "print('Statistic:', round(stat, 3))\n",
    "print('p-value:  ', round(p, 3))"
   ]
  },
  {
   "cell_type": "code",
   "execution_count": 34,
   "metadata": {},
   "outputs": [
    {
     "data": {
      "text/html": [
       "<div>\n",
       "<style scoped>\n",
       "    .dataframe tbody tr th:only-of-type {\n",
       "        vertical-align: middle;\n",
       "    }\n",
       "\n",
       "    .dataframe tbody tr th {\n",
       "        vertical-align: top;\n",
       "    }\n",
       "\n",
       "    .dataframe thead th {\n",
       "        text-align: right;\n",
       "    }\n",
       "</style>\n",
       "<table border=\"1\" class=\"dataframe\">\n",
       "  <thead>\n",
       "    <tr style=\"text-align: right;\">\n",
       "      <th></th>\n",
       "      <th>group</th>\n",
       "      <th>orders</th>\n",
       "    </tr>\n",
       "  </thead>\n",
       "  <tbody>\n",
       "    <tr>\n",
       "      <th>0</th>\n",
       "      <td>control</td>\n",
       "      <td>4.85</td>\n",
       "    </tr>\n",
       "    <tr>\n",
       "      <th>1</th>\n",
       "      <td>test</td>\n",
       "      <td>4.99</td>\n",
       "    </tr>\n",
       "  </tbody>\n",
       "</table>\n",
       "</div>"
      ],
      "text/plain": [
       "     group  orders\n",
       "0  control    4.85\n",
       "1     test    4.99"
      ]
     },
     "execution_count": 34,
     "metadata": {},
     "output_type": "execute_result"
    }
   ],
   "source": [
    "# Доля отмененных заказов\n",
    "\n",
    "part_canceled = ab_users_data \\\n",
    "                    .groupby('group') \\\n",
    "                    .apply(lambda x: x[x.action == 'cancel_order'][['action']].count() / x.shape[0]) \\\n",
    "                    .rename(columns={'action': 'orders'}) \\\n",
    "                    .mul(100) \\\n",
    "                    .round(2) \\\n",
    "                    .reset_index()\n",
    "part_canceled"
   ]
  },
  {
   "cell_type": "code",
   "execution_count": 35,
   "metadata": {},
   "outputs": [
    {
     "data": {
      "image/png": "[encoded data removed]",
      "text/plain": [
       "<Figure size 576x432 with 1 Axes>"
      ]
     },
     "metadata": {},
     "output_type": "display_data"
    }
   ],
   "source": [
    "# Визуализация долей отмененных заказов в группах\n",
    "\n",
    "plt.figure(figsize=(8, 6))\n",
    "ax = sns.barplot(data=part_canceled, x='group', y='orders', alpha=0.9)\n",
    "ax.set(xlabel='Group', ylabel='')\n",
    "ax.set_title('Canceled orders', pad=25)\n",
    "\n",
    "for p in ax.patches:\n",
    "    percentage = '{:.2f}%'.format(p.get_height())\n",
    "    x = p.get_x() + p.get_width() / 2\n",
    "    y = p.get_height()\n",
    "    ax.annotate(percentage, (x, y), ha='center', va='bottom', fontsize=15)\n",
    "sns.despine()\n",
    "plt.show()"
   ]
  },
  {
   "cell_type": "markdown",
   "metadata": {},
   "source": [
    "### Вывод №1:\n",
    "\n",
    "Результаты теста не позволяют нам отклонить нулевую гипотезу (H0), следовательно, мы не можем утверждать, что новая система рекомендаций товаров приводит к изменению доли отмененных заказов."
   ]
  },
  {
   "cell_type": "markdown",
   "metadata": {},
   "source": [
    "## 2. Среднее количество заказов на пользователя\n",
    "\n",
    "Предположим, что новая система рекомендаций товаров может стимулировать покупателей делать больше заказов т.к. она лучше чем старая понимает потребности и интересы конкретного пользователя."
   ]
  },
  {
   "cell_type": "code",
   "execution_count": 36,
   "metadata": {},
   "outputs": [
    {
     "data": {
      "text/html": [
       "<div>\n",
       "<style scoped>\n",
       "    .dataframe tbody tr th:only-of-type {\n",
       "        vertical-align: middle;\n",
       "    }\n",
       "\n",
       "    .dataframe tbody tr th {\n",
       "        vertical-align: top;\n",
       "    }\n",
       "\n",
       "    .dataframe thead th {\n",
       "        text-align: right;\n",
       "    }\n",
       "</style>\n",
       "<table border=\"1\" class=\"dataframe\">\n",
       "  <thead>\n",
       "    <tr style=\"text-align: right;\">\n",
       "      <th></th>\n",
       "      <th>user_id</th>\n",
       "      <th>group</th>\n",
       "      <th>order_id</th>\n",
       "    </tr>\n",
       "  </thead>\n",
       "  <tbody>\n",
       "    <tr>\n",
       "      <th>0</th>\n",
       "      <td>964</td>\n",
       "      <td>control</td>\n",
       "      <td>2</td>\n",
       "    </tr>\n",
       "    <tr>\n",
       "      <th>1</th>\n",
       "      <td>965</td>\n",
       "      <td>test</td>\n",
       "      <td>9</td>\n",
       "    </tr>\n",
       "    <tr>\n",
       "      <th>2</th>\n",
       "      <td>967</td>\n",
       "      <td>test</td>\n",
       "      <td>5</td>\n",
       "    </tr>\n",
       "    <tr>\n",
       "      <th>3</th>\n",
       "      <td>968</td>\n",
       "      <td>control</td>\n",
       "      <td>3</td>\n",
       "    </tr>\n",
       "    <tr>\n",
       "      <th>4</th>\n",
       "      <td>969</td>\n",
       "      <td>control</td>\n",
       "      <td>2</td>\n",
       "    </tr>\n",
       "    <tr>\n",
       "      <th>...</th>\n",
       "      <td>...</td>\n",
       "      <td>...</td>\n",
       "      <td>...</td>\n",
       "    </tr>\n",
       "    <tr>\n",
       "      <th>1008</th>\n",
       "      <td>1976</td>\n",
       "      <td>test</td>\n",
       "      <td>5</td>\n",
       "    </tr>\n",
       "    <tr>\n",
       "      <th>1009</th>\n",
       "      <td>1977</td>\n",
       "      <td>test</td>\n",
       "      <td>4</td>\n",
       "    </tr>\n",
       "    <tr>\n",
       "      <th>1010</th>\n",
       "      <td>1978</td>\n",
       "      <td>test</td>\n",
       "      <td>6</td>\n",
       "    </tr>\n",
       "    <tr>\n",
       "      <th>1011</th>\n",
       "      <td>1979</td>\n",
       "      <td>test</td>\n",
       "      <td>5</td>\n",
       "    </tr>\n",
       "    <tr>\n",
       "      <th>1012</th>\n",
       "      <td>1980</td>\n",
       "      <td>test</td>\n",
       "      <td>7</td>\n",
       "    </tr>\n",
       "  </tbody>\n",
       "</table>\n",
       "<p>1013 rows × 3 columns</p>\n",
       "</div>"
      ],
      "text/plain": [
       "      user_id    group  order_id\n",
       "0         964  control         2\n",
       "1         965     test         9\n",
       "2         967     test         5\n",
       "3         968  control         3\n",
       "4         969  control         2\n",
       "...       ...      ...       ...\n",
       "1008     1976     test         5\n",
       "1009     1977     test         4\n",
       "1010     1978     test         6\n",
       "1011     1979     test         5\n",
       "1012     1980     test         7\n",
       "\n",
       "[1013 rows x 3 columns]"
      ]
     },
     "execution_count": 36,
     "metadata": {},
     "output_type": "execute_result"
    }
   ],
   "source": [
    "df_count_orders = ab_users_data \\\n",
    "    .query(\"order_id not in @canceled_orders\") \\\n",
    "    .groupby(['user_id', 'group'], as_index=False) \\\n",
    "    .agg({'order_id':'count'})\n",
    "df_count_orders"
   ]
  },
  {
   "cell_type": "markdown",
   "metadata": {},
   "source": [
    "**Примечание:** при подсчете метрики не учитываются отмененные заказы"
   ]
  },
  {
   "cell_type": "code",
   "execution_count": 37,
   "metadata": {},
   "outputs": [
    {
     "data": {
      "text/plain": [
       "control    512\n",
       "test       501\n",
       "Name: group, dtype: int64"
      ]
     },
     "execution_count": 37,
     "metadata": {},
     "output_type": "execute_result"
    }
   ],
   "source": [
    "# Размер выборки тестовой и контрольной групп\n",
    "\n",
    "df_count_orders.group.value_counts()"
   ]
  },
  {
   "cell_type": "code",
   "execution_count": 38,
   "metadata": {},
   "outputs": [
    {
     "data": {
      "image/png": "[encoded data removed]",
      "text/plain": [
       "<Figure size 1016.01x504 with 2 Axes>"
      ]
     },
     "metadata": {},
     "output_type": "display_data"
    }
   ],
   "source": [
    "# Визуализация распределения количества заказов на пользователя\n",
    "\n",
    "sns.set(font_scale=1.4, style=\"darkgrid\")\n",
    "ax = sns.displot(df_count_orders, height=7, aspect=0.9, x='order_id', hue='group', col='group', bins=13, kde=True)\n",
    "ax.fig.suptitle('Distribution count orders', fontsize=20, y=1.05)\n",
    "ax.set(xlabel='Orders per user')\n",
    "plt.show()"
   ]
  },
  {
   "cell_type": "markdown",
   "metadata": {},
   "source": [
    "### Проверим распределения на гомогенность дисперсий и нормальность\n",
    "\n",
    "Для проверки гомогенности дисперсий используем тест Левена, так как он менее чувствителен к отклонениям от нормальности, чем тесты Фишера и Бартлетта. Для проверки нормальности используем тест Шапиро-Уилка."
   ]
  },
  {
   "cell_type": "code",
   "execution_count": 39,
   "metadata": {},
   "outputs": [
    {
     "name": "stdout",
     "output_type": "stream",
     "text": [
      "В рассмотренных распределениях дисперсии гомогенны = False\n",
      "pvalue = 3.65e-05\n"
     ]
    }
   ],
   "source": [
    "# Проверка гомогенности дисперсий по критерию Левена\n",
    "\n",
    "stat, p_val = st.levene(df_count_orders.query(\"group == 'control'\").order_id, \\\n",
    "                        df_count_orders.query(\"group == 'test'\").order_id)\n",
    "print(f'В рассмотренных распределениях дисперсии гомогенны = {p_val > 0.05}')\n",
    "print(f'pvalue = {round(p_val, 7)}')"
   ]
  },
  {
   "cell_type": "code",
   "execution_count": 40,
   "metadata": {},
   "outputs": [
    {
     "name": "stdout",
     "output_type": "stream",
     "text": [
      "Группа А (control): pvalue = 4.71e-23\n",
      "Группа B (test):    pvalue = 7.85e-10\n",
      "\n",
      "Группа А (control): Распределение нормальное = False\n",
      "Группа B (test):    Распределение нормальное = False\n"
     ]
    }
   ],
   "source": [
    "# Проверка нормальности распределения (тест Шапиро-Уилка)\n",
    "\n",
    "stat_A, p_val_A = st.shapiro(df_count_orders.query(\"group == 'control'\").order_id)\n",
    "stat_B, p_val_B = st.shapiro(df_count_orders.query(\"group == 'test'\").order_id)\n",
    "\n",
    "print(f'Группа А (control): pvalue = {round(p_val_A, 25)}')\n",
    "print(f'Группа B (test):    pvalue = {round(p_val_B, 12)}')\n",
    "\n",
    "print(f'\\nГруппа А (control): Распределение нормальное = {p_val_A > 0.05}')\n",
    "print(f'Группа B (test):    Распределение нормальное = {p_val_B > 0.05}')"
   ]
  },
  {
   "cell_type": "markdown",
   "metadata": {},
   "source": [
    "### Формулировка гипотез и выбор теста\n",
    "\n",
    "Для применения T-test'a выделяют следующие два основных требования:\n",
    "\n",
    " - Дисперсии внутри наших групп должны быть примерно одинаковы (требование гомогенности дисперсий).\n",
    " - Нормальность распределения данных обеих групп при применении t-теста. Во многих пособиях можно встретить довольно жесткое требование к нормальности данных по причине возможного завышения вероятности ошибки I рода. На практике t-тест может быть использован для сравнения средних и при ненормальном распределении, особенно на больших выборках и если в данных нет заметных выбросов.\n",
    " \n",
    "Для исследуемой метрики параметрические требования не выполняются: дисперсии не гомогенны и данные распределены ненормально, однако выборка довольна большая и отсутствуют выбросы, поэтому нормальностью распределения можно пренебречь, а различие в дисперсиях учесть при проведении тестирования → **используем T-test Уэлча**\n",
    "\n",
    "- $H_0$: в генеральной совокупности никакого различия между средним количеством заказов на пользователя нет \n",
    "- $H_1$: в генеральной совокупности среднее количество заказов на пользователя различается"
   ]
  },
  {
   "cell_type": "code",
   "execution_count": 41,
   "metadata": {},
   "outputs": [
    {
     "name": "stdout",
     "output_type": "stream",
     "text": [
      "pvalue = 1.2374e-40\n",
      "\n",
      "Отклоняем нулевую гипотезу H0\n"
     ]
    }
   ],
   "source": [
    "# T-test Уэлча (сравнение средних):\n",
    "\n",
    "p_value = st.ttest_ind(df_count_orders.query(\"group == 'test'\").order_id, \\\n",
    "                       df_count_orders.query(\"group == 'control'\").order_id, \\\n",
    "                       equal_var=False).pvalue\n",
    "\n",
    "print(f'pvalue = {round(p_value, 44)}')\n",
    "\n",
    "statistic_result(p_value)"
   ]
  },
  {
   "cell_type": "markdown",
   "metadata": {},
   "source": [
    "### Дополнительно\n",
    "Для надежности вывода проведем сравнение доверительных интервалов для средних с помощью **Bootstrap** (необязательно):"
   ]
  },
  {
   "cell_type": "code",
   "execution_count": 42,
   "metadata": {},
   "outputs": [
    {
     "name": "stdout",
     "output_type": "stream",
     "text": [
      "ConfidenceInterval: [4.57, 4.94]\n"
     ]
    }
   ],
   "source": [
    "# Бутстрап (тестовая группа)\n",
    "\n",
    "ci = st.bootstrap((df_count_orders.query(\"group == 'test'\").order_id, ), np.mean).confidence_interval\n",
    "\n",
    "print(f'ConfidenceInterval: {[round(ci.low, 2), round(ci.high, 2)]}')"
   ]
  },
  {
   "cell_type": "code",
   "execution_count": 43,
   "metadata": {},
   "outputs": [
    {
     "name": "stdout",
     "output_type": "stream",
     "text": [
      "ConfidenceInterval: [2.83, 3.15]\n"
     ]
    }
   ],
   "source": [
    "# Бутстрап (контрольная группа)\n",
    "\n",
    "ci = st.bootstrap((df_count_orders.query(\"group == 'control'\").order_id, ), np.mean).confidence_interval\n",
    "\n",
    "print(f'ConfidenceInterval: {[round(ci.low, 2), round(ci.high, 2)]}')"
   ]
  },
  {
   "cell_type": "markdown",
   "metadata": {},
   "source": [
    "### Вывод №2:\n",
    "\n",
    "По результатам T-test'а отвергаем нулевую гипотезу и принимаем альтернативную (H1): **в генеральной совокупности среднее количество заказов на пользователя различается**. <br/> \n",
    "\n",
    "Данную альтернативную гипотезу также подтвердил проведенный bootstrap, где доверительные интервалы средних не пересекаются. По построенным гистограммам и проведенному статистическому тесту заключаем, что в тестовой группе (test) среднее количество заказов на пользователя статистически значимо больше, чем в контрольной группе (control)."
   ]
  },
  {
   "cell_type": "markdown",
   "metadata": {},
   "source": [
    "## 3. Среднее число продуктов в заказе\n",
    "\n",
    "Предположим, что новая система рекомендаций может привлечь внимание покупателей к большему числу товаров т.к. она работает более эффективно. Проверим это предположение статистическим тестом."
   ]
  },
  {
   "cell_type": "code",
   "execution_count": 44,
   "metadata": {},
   "outputs": [
    {
     "data": {
      "text/html": [
       "<div>\n",
       "<style scoped>\n",
       "    .dataframe tbody tr th:only-of-type {\n",
       "        vertical-align: middle;\n",
       "    }\n",
       "\n",
       "    .dataframe tbody tr th {\n",
       "        vertical-align: top;\n",
       "    }\n",
       "\n",
       "    .dataframe thead th {\n",
       "        text-align: right;\n",
       "    }\n",
       "</style>\n",
       "<table border=\"1\" class=\"dataframe\">\n",
       "  <thead>\n",
       "    <tr style=\"text-align: right;\">\n",
       "      <th></th>\n",
       "      <th>user_id</th>\n",
       "      <th>order_id</th>\n",
       "      <th>action</th>\n",
       "      <th>time</th>\n",
       "      <th>date</th>\n",
       "      <th>group</th>\n",
       "      <th>creation_time</th>\n",
       "      <th>product_ids</th>\n",
       "    </tr>\n",
       "  </thead>\n",
       "  <tbody>\n",
       "    <tr>\n",
       "      <th>0</th>\n",
       "      <td>964</td>\n",
       "      <td>1255</td>\n",
       "      <td>create_order</td>\n",
       "      <td>2022-08-26 00:00:19.000000</td>\n",
       "      <td>2022-08-26</td>\n",
       "      <td>control</td>\n",
       "      <td>2022-08-26 00:00:19.000000</td>\n",
       "      <td>{75, 22, 53, 84}</td>\n",
       "    </tr>\n",
       "    <tr>\n",
       "      <th>1</th>\n",
       "      <td>965</td>\n",
       "      <td>1256</td>\n",
       "      <td>create_order</td>\n",
       "      <td>2022-08-26 00:02:21.000000</td>\n",
       "      <td>2022-08-26</td>\n",
       "      <td>test</td>\n",
       "      <td>2022-08-26 00:02:21.000000</td>\n",
       "      <td>{56, 76, 39}</td>\n",
       "    </tr>\n",
       "    <tr>\n",
       "      <th>2</th>\n",
       "      <td>964</td>\n",
       "      <td>1257</td>\n",
       "      <td>create_order</td>\n",
       "      <td>2022-08-26 00:02:27.000000</td>\n",
       "      <td>2022-08-26</td>\n",
       "      <td>control</td>\n",
       "      <td>2022-08-26 00:02:27.000000</td>\n",
       "      <td>{76, 34, 41, 38}</td>\n",
       "    </tr>\n",
       "    <tr>\n",
       "      <th>3</th>\n",
       "      <td>967</td>\n",
       "      <td>1259</td>\n",
       "      <td>create_order</td>\n",
       "      <td>2022-08-26 00:03:37.000000</td>\n",
       "      <td>2022-08-26</td>\n",
       "      <td>test</td>\n",
       "      <td>2022-08-26 00:03:37.000000</td>\n",
       "      <td>{20, 45, 67, 26}</td>\n",
       "    </tr>\n",
       "    <tr>\n",
       "      <th>4</th>\n",
       "      <td>968</td>\n",
       "      <td>1261</td>\n",
       "      <td>create_order</td>\n",
       "      <td>2022-08-26 00:05:35.000000</td>\n",
       "      <td>2022-08-26</td>\n",
       "      <td>control</td>\n",
       "      <td>2022-08-26 00:05:35.000000</td>\n",
       "      <td>{30, 35, 69, 6}</td>\n",
       "    </tr>\n",
       "    <tr>\n",
       "      <th>...</th>\n",
       "      <td>...</td>\n",
       "      <td>...</td>\n",
       "      <td>...</td>\n",
       "      <td>...</td>\n",
       "      <td>...</td>\n",
       "      <td>...</td>\n",
       "      <td>...</td>\n",
       "      <td>...</td>\n",
       "    </tr>\n",
       "    <tr>\n",
       "      <th>3904</th>\n",
       "      <td>990</td>\n",
       "      <td>59422</td>\n",
       "      <td>create_order</td>\n",
       "      <td>2022-09-08 23:13:03.000000</td>\n",
       "      <td>2022-09-08</td>\n",
       "      <td>test</td>\n",
       "      <td>2022-09-08 23:13:03.000000</td>\n",
       "      <td>{84, 8, 24}</td>\n",
       "    </tr>\n",
       "    <tr>\n",
       "      <th>3905</th>\n",
       "      <td>1418</td>\n",
       "      <td>59439</td>\n",
       "      <td>create_order</td>\n",
       "      <td>2022-09-08 23:18:05.000000</td>\n",
       "      <td>2022-09-08</td>\n",
       "      <td>test</td>\n",
       "      <td>2022-09-08 23:18:05.000000</td>\n",
       "      <td>{9, 25, 75, 30, 6}</td>\n",
       "    </tr>\n",
       "    <tr>\n",
       "      <th>3906</th>\n",
       "      <td>1605</td>\n",
       "      <td>59464</td>\n",
       "      <td>create_order</td>\n",
       "      <td>2022-09-08 23:22:27.000000</td>\n",
       "      <td>2022-09-08</td>\n",
       "      <td>control</td>\n",
       "      <td>2022-09-08 23:22:27.000000</td>\n",
       "      <td>{60, 41, 46}</td>\n",
       "    </tr>\n",
       "    <tr>\n",
       "      <th>3907</th>\n",
       "      <td>1461</td>\n",
       "      <td>59487</td>\n",
       "      <td>create_order</td>\n",
       "      <td>2022-09-08 23:29:06.000000</td>\n",
       "      <td>2022-09-08</td>\n",
       "      <td>control</td>\n",
       "      <td>2022-09-08 23:29:06.000000</td>\n",
       "      <td>{9, 62, 77}</td>\n",
       "    </tr>\n",
       "    <tr>\n",
       "      <th>3908</th>\n",
       "      <td>1376</td>\n",
       "      <td>59533</td>\n",
       "      <td>create_order</td>\n",
       "      <td>2022-09-08 23:41:24.000000</td>\n",
       "      <td>2022-09-08</td>\n",
       "      <td>control</td>\n",
       "      <td>2022-09-08 23:41:24.000000</td>\n",
       "      <td>{17, 85}</td>\n",
       "    </tr>\n",
       "  </tbody>\n",
       "</table>\n",
       "<p>3909 rows × 8 columns</p>\n",
       "</div>"
      ],
      "text/plain": [
       "      user_id  order_id        action                        time        date  \\\n",
       "0         964      1255  create_order  2022-08-26 00:00:19.000000  2022-08-26   \n",
       "1         965      1256  create_order  2022-08-26 00:02:21.000000  2022-08-26   \n",
       "2         964      1257  create_order  2022-08-26 00:02:27.000000  2022-08-26   \n",
       "3         967      1259  create_order  2022-08-26 00:03:37.000000  2022-08-26   \n",
       "4         968      1261  create_order  2022-08-26 00:05:35.000000  2022-08-26   \n",
       "...       ...       ...           ...                         ...         ...   \n",
       "3904      990     59422  create_order  2022-09-08 23:13:03.000000  2022-09-08   \n",
       "3905     1418     59439  create_order  2022-09-08 23:18:05.000000  2022-09-08   \n",
       "3906     1605     59464  create_order  2022-09-08 23:22:27.000000  2022-09-08   \n",
       "3907     1461     59487  create_order  2022-09-08 23:29:06.000000  2022-09-08   \n",
       "3908     1376     59533  create_order  2022-09-08 23:41:24.000000  2022-09-08   \n",
       "\n",
       "        group               creation_time         product_ids  \n",
       "0     control  2022-08-26 00:00:19.000000    {75, 22, 53, 84}  \n",
       "1        test  2022-08-26 00:02:21.000000        {56, 76, 39}  \n",
       "2     control  2022-08-26 00:02:27.000000    {76, 34, 41, 38}  \n",
       "3        test  2022-08-26 00:03:37.000000    {20, 45, 67, 26}  \n",
       "4     control  2022-08-26 00:05:35.000000     {30, 35, 69, 6}  \n",
       "...       ...                         ...                 ...  \n",
       "3904     test  2022-09-08 23:13:03.000000         {84, 8, 24}  \n",
       "3905     test  2022-09-08 23:18:05.000000  {9, 25, 75, 30, 6}  \n",
       "3906  control  2022-09-08 23:22:27.000000        {60, 41, 46}  \n",
       "3907  control  2022-09-08 23:29:06.000000         {9, 62, 77}  \n",
       "3908  control  2022-09-08 23:41:24.000000            {17, 85}  \n",
       "\n",
       "[3909 rows x 8 columns]"
      ]
     },
     "execution_count": 44,
     "metadata": {},
     "output_type": "execute_result"
    }
   ],
   "source": [
    "df_count_product = ab_users_data \\\n",
    "                    .query(\"order_id not in @canceled_orders\") \\\n",
    "                    .merge(ab_orders, on='order_id') \\\n",
    "                    .reset_index(drop=True)\n",
    "df_count_product"
   ]
  },
  {
   "cell_type": "code",
   "execution_count": 45,
   "metadata": {},
   "outputs": [
    {
     "data": {
      "text/html": [
       "<div>\n",
       "<style scoped>\n",
       "    .dataframe tbody tr th:only-of-type {\n",
       "        vertical-align: middle;\n",
       "    }\n",
       "\n",
       "    .dataframe tbody tr th {\n",
       "        vertical-align: top;\n",
       "    }\n",
       "\n",
       "    .dataframe thead th {\n",
       "        text-align: right;\n",
       "    }\n",
       "</style>\n",
       "<table border=\"1\" class=\"dataframe\">\n",
       "  <thead>\n",
       "    <tr style=\"text-align: right;\">\n",
       "      <th></th>\n",
       "      <th>user_id</th>\n",
       "      <th>order_id</th>\n",
       "      <th>action</th>\n",
       "      <th>time</th>\n",
       "      <th>date</th>\n",
       "      <th>group</th>\n",
       "      <th>creation_time</th>\n",
       "      <th>product_ids</th>\n",
       "      <th>count_products</th>\n",
       "    </tr>\n",
       "  </thead>\n",
       "  <tbody>\n",
       "    <tr>\n",
       "      <th>0</th>\n",
       "      <td>964</td>\n",
       "      <td>1255</td>\n",
       "      <td>create_order</td>\n",
       "      <td>2022-08-26 00:00:19.000000</td>\n",
       "      <td>2022-08-26</td>\n",
       "      <td>control</td>\n",
       "      <td>2022-08-26 00:00:19.000000</td>\n",
       "      <td>{75, 22, 53, 84}</td>\n",
       "      <td>4</td>\n",
       "    </tr>\n",
       "    <tr>\n",
       "      <th>1</th>\n",
       "      <td>965</td>\n",
       "      <td>1256</td>\n",
       "      <td>create_order</td>\n",
       "      <td>2022-08-26 00:02:21.000000</td>\n",
       "      <td>2022-08-26</td>\n",
       "      <td>test</td>\n",
       "      <td>2022-08-26 00:02:21.000000</td>\n",
       "      <td>{56, 76, 39}</td>\n",
       "      <td>3</td>\n",
       "    </tr>\n",
       "    <tr>\n",
       "      <th>2</th>\n",
       "      <td>964</td>\n",
       "      <td>1257</td>\n",
       "      <td>create_order</td>\n",
       "      <td>2022-08-26 00:02:27.000000</td>\n",
       "      <td>2022-08-26</td>\n",
       "      <td>control</td>\n",
       "      <td>2022-08-26 00:02:27.000000</td>\n",
       "      <td>{76, 34, 41, 38}</td>\n",
       "      <td>4</td>\n",
       "    </tr>\n",
       "    <tr>\n",
       "      <th>3</th>\n",
       "      <td>967</td>\n",
       "      <td>1259</td>\n",
       "      <td>create_order</td>\n",
       "      <td>2022-08-26 00:03:37.000000</td>\n",
       "      <td>2022-08-26</td>\n",
       "      <td>test</td>\n",
       "      <td>2022-08-26 00:03:37.000000</td>\n",
       "      <td>{20, 45, 67, 26}</td>\n",
       "      <td>4</td>\n",
       "    </tr>\n",
       "    <tr>\n",
       "      <th>4</th>\n",
       "      <td>968</td>\n",
       "      <td>1261</td>\n",
       "      <td>create_order</td>\n",
       "      <td>2022-08-26 00:05:35.000000</td>\n",
       "      <td>2022-08-26</td>\n",
       "      <td>control</td>\n",
       "      <td>2022-08-26 00:05:35.000000</td>\n",
       "      <td>{30, 35, 69, 6}</td>\n",
       "      <td>4</td>\n",
       "    </tr>\n",
       "    <tr>\n",
       "      <th>...</th>\n",
       "      <td>...</td>\n",
       "      <td>...</td>\n",
       "      <td>...</td>\n",
       "      <td>...</td>\n",
       "      <td>...</td>\n",
       "      <td>...</td>\n",
       "      <td>...</td>\n",
       "      <td>...</td>\n",
       "      <td>...</td>\n",
       "    </tr>\n",
       "    <tr>\n",
       "      <th>3904</th>\n",
       "      <td>990</td>\n",
       "      <td>59422</td>\n",
       "      <td>create_order</td>\n",
       "      <td>2022-09-08 23:13:03.000000</td>\n",
       "      <td>2022-09-08</td>\n",
       "      <td>test</td>\n",
       "      <td>2022-09-08 23:13:03.000000</td>\n",
       "      <td>{84, 8, 24}</td>\n",
       "      <td>3</td>\n",
       "    </tr>\n",
       "    <tr>\n",
       "      <th>3905</th>\n",
       "      <td>1418</td>\n",
       "      <td>59439</td>\n",
       "      <td>create_order</td>\n",
       "      <td>2022-09-08 23:18:05.000000</td>\n",
       "      <td>2022-09-08</td>\n",
       "      <td>test</td>\n",
       "      <td>2022-09-08 23:18:05.000000</td>\n",
       "      <td>{9, 25, 75, 30, 6}</td>\n",
       "      <td>5</td>\n",
       "    </tr>\n",
       "    <tr>\n",
       "      <th>3906</th>\n",
       "      <td>1605</td>\n",
       "      <td>59464</td>\n",
       "      <td>create_order</td>\n",
       "      <td>2022-09-08 23:22:27.000000</td>\n",
       "      <td>2022-09-08</td>\n",
       "      <td>control</td>\n",
       "      <td>2022-09-08 23:22:27.000000</td>\n",
       "      <td>{60, 41, 46}</td>\n",
       "      <td>3</td>\n",
       "    </tr>\n",
       "    <tr>\n",
       "      <th>3907</th>\n",
       "      <td>1461</td>\n",
       "      <td>59487</td>\n",
       "      <td>create_order</td>\n",
       "      <td>2022-09-08 23:29:06.000000</td>\n",
       "      <td>2022-09-08</td>\n",
       "      <td>control</td>\n",
       "      <td>2022-09-08 23:29:06.000000</td>\n",
       "      <td>{9, 62, 77}</td>\n",
       "      <td>3</td>\n",
       "    </tr>\n",
       "    <tr>\n",
       "      <th>3908</th>\n",
       "      <td>1376</td>\n",
       "      <td>59533</td>\n",
       "      <td>create_order</td>\n",
       "      <td>2022-09-08 23:41:24.000000</td>\n",
       "      <td>2022-09-08</td>\n",
       "      <td>control</td>\n",
       "      <td>2022-09-08 23:41:24.000000</td>\n",
       "      <td>{17, 85}</td>\n",
       "      <td>2</td>\n",
       "    </tr>\n",
       "  </tbody>\n",
       "</table>\n",
       "<p>3909 rows × 9 columns</p>\n",
       "</div>"
      ],
      "text/plain": [
       "      user_id  order_id        action                        time        date  \\\n",
       "0         964      1255  create_order  2022-08-26 00:00:19.000000  2022-08-26   \n",
       "1         965      1256  create_order  2022-08-26 00:02:21.000000  2022-08-26   \n",
       "2         964      1257  create_order  2022-08-26 00:02:27.000000  2022-08-26   \n",
       "3         967      1259  create_order  2022-08-26 00:03:37.000000  2022-08-26   \n",
       "4         968      1261  create_order  2022-08-26 00:05:35.000000  2022-08-26   \n",
       "...       ...       ...           ...                         ...         ...   \n",
       "3904      990     59422  create_order  2022-09-08 23:13:03.000000  2022-09-08   \n",
       "3905     1418     59439  create_order  2022-09-08 23:18:05.000000  2022-09-08   \n",
       "3906     1605     59464  create_order  2022-09-08 23:22:27.000000  2022-09-08   \n",
       "3907     1461     59487  create_order  2022-09-08 23:29:06.000000  2022-09-08   \n",
       "3908     1376     59533  create_order  2022-09-08 23:41:24.000000  2022-09-08   \n",
       "\n",
       "        group               creation_time         product_ids  count_products  \n",
       "0     control  2022-08-26 00:00:19.000000    {75, 22, 53, 84}               4  \n",
       "1        test  2022-08-26 00:02:21.000000        {56, 76, 39}               3  \n",
       "2     control  2022-08-26 00:02:27.000000    {76, 34, 41, 38}               4  \n",
       "3        test  2022-08-26 00:03:37.000000    {20, 45, 67, 26}               4  \n",
       "4     control  2022-08-26 00:05:35.000000     {30, 35, 69, 6}               4  \n",
       "...       ...                         ...                 ...             ...  \n",
       "3904     test  2022-09-08 23:13:03.000000         {84, 8, 24}               3  \n",
       "3905     test  2022-09-08 23:18:05.000000  {9, 25, 75, 30, 6}               5  \n",
       "3906  control  2022-09-08 23:22:27.000000        {60, 41, 46}               3  \n",
       "3907  control  2022-09-08 23:29:06.000000         {9, 62, 77}               3  \n",
       "3908  control  2022-09-08 23:41:24.000000            {17, 85}               2  \n",
       "\n",
       "[3909 rows x 9 columns]"
      ]
     },
     "execution_count": 45,
     "metadata": {},
     "output_type": "execute_result"
    }
   ],
   "source": [
    "# Подсчет количества товаров в заказах\n",
    "\n",
    "df_count_product['count_products'] = df_count_product.product_ids.apply(lambda x: len(x.split(',')))\n",
    "df_count_product"
   ]
  },
  {
   "cell_type": "code",
   "execution_count": 46,
   "metadata": {},
   "outputs": [
    {
     "data": {
      "text/plain": [
       "test       2382\n",
       "control    1527\n",
       "Name: group, dtype: int64"
      ]
     },
     "execution_count": 46,
     "metadata": {},
     "output_type": "execute_result"
    }
   ],
   "source": [
    "# Размер выборки тестовой и контрольной групп\n",
    "\n",
    "df_count_product.group.value_counts()"
   ]
  },
  {
   "cell_type": "code",
   "execution_count": 47,
   "metadata": {},
   "outputs": [
    {
     "data": {
      "image/png": "[encoded data removed]",
      "text/plain": [
       "<Figure size 1016.01x504 with 2 Axes>"
      ]
     },
     "metadata": {},
     "output_type": "display_data"
    }
   ],
   "source": [
    "# Визуализация распределения количества заказов на пользователя\n",
    "\n",
    "sns.set(font_scale=1.4, style=\"darkgrid\")\n",
    "ax = sns.displot(df_count_product, height=7, aspect=0.9, x='count_products', hue='group', col='group', bins=8, alpha=0.5)\n",
    "ax.fig.suptitle('Distribution of count products in orders', fontsize=20, y=1.05)\n",
    "ax.set(xlabel='Products in order')\n",
    "plt.show()"
   ]
  },
  {
   "cell_type": "markdown",
   "metadata": {},
   "source": [
    "### Проверим распределения на гомогенность дисперсий и нормальность\n",
    "\n",
    "Для проверки гомогенности дисперсий используем тест Левена, так как он менее чувствителен к отклонениям от нормальности, чем тесты Фишера и Бартлетта. Для проверки нормальности используем тест Агостино-Пирсона, так как он имеет более высокую точность в сравнении с тестом Шапиро-Уилка на довольно больших выборках."
   ]
  },
  {
   "cell_type": "code",
   "execution_count": 48,
   "metadata": {},
   "outputs": [
    {
     "name": "stdout",
     "output_type": "stream",
     "text": [
      "В рассмотренных распределениях дисперсии гомогенны = True\n",
      "pvalue = 0.181\n"
     ]
    }
   ],
   "source": [
    "# Проверка гомогенности дисперсий по критерию Левена\n",
    "\n",
    "stat, p_val = st.levene(df_count_product.query(\"group == 'control'\").count_products, \\\n",
    "                        df_count_product.query(\"group == 'test'\").count_products)\n",
    "print(f'В рассмотренных распределениях дисперсии гомогенны = {p_val > 0.05}')\n",
    "print(f'pvalue = {round(p_val, 3)}')"
   ]
  },
  {
   "cell_type": "code",
   "execution_count": 49,
   "metadata": {},
   "outputs": [
    {
     "name": "stdout",
     "output_type": "stream",
     "text": [
      "Группа А (control): pvalue = 1.32e-08\n",
      "Группа B (test):    pvalue = 6.85e-10\n",
      "\n",
      "Группа А (control): Распределение нормальное = False\n",
      "Группа B (test):    Распределение нормальное = False\n"
     ]
    }
   ],
   "source": [
    "# Проверка нормальности распределения (тест Д'Агостино-Пирсона)\n",
    "\n",
    "stat_A, p_val_A = st.normaltest(df_count_product.query(\"group == 'control'\").count_products)\n",
    "stat_B, p_val_B = st.normaltest(df_count_product.query(\"group == 'test'\").count_products)\n",
    "\n",
    "print(f'Группа А (control): pvalue = {round(p_val_A, 10)}')\n",
    "print(f'Группа B (test):    pvalue = {round(p_val_B, 12)}')\n",
    "\n",
    "print(f'\\nГруппа А (control): Распределение нормальное = {p_val_A > 0.05}')\n",
    "print(f'Группа B (test):    Распределение нормальное = {p_val_B > 0.05}')"
   ]
  },
  {
   "cell_type": "markdown",
   "metadata": {},
   "source": [
    "### Формулировка гипотез и выбор теста\n",
    "\n",
    "Для применения T-test'a выделяют следующие два основных требования:\n",
    "\n",
    " - Дисперсии внутри наших групп должны быть примерно одинаковы (требование гомогенности дисперсий).\n",
    " - Нормальность распределения данных обеих групп при применении t-теста. Во многих пособиях можно встретить довольно жесткое требование к нормальности данных по причине возможного завышения вероятности ошибки I рода. На практике t-тест может быть использован для сравнения средних и при ненормальном распределении, особенно на больших выборках и если в данных нет заметных выбросов.\n",
    " \n",
    "Для исследуемой метрики параметрические требования не выполняются в полной мере: дисперсии гомогенны, но данные в группах распределены ненормально. Поскольку выборка довольна большая и отсутствуют выбросы нормальностью распределения можно пренебречь → **используем T-test Стьюдента**\n",
    "\n",
    "- $H_0$: в генеральной совокупности никакого различия между средним количеством продуктов в заказе нет \n",
    "- $H_1$: в генеральной совокупности среднее количество продуктов в заказе различается"
   ]
  },
  {
   "cell_type": "code",
   "execution_count": 50,
   "metadata": {},
   "outputs": [
    {
     "name": "stdout",
     "output_type": "stream",
     "text": [
      "pvalue = 0.844\n",
      "\n",
      "Не отклоняем нулевую гипотезу H0\n"
     ]
    }
   ],
   "source": [
    "# T-test Стьюдента (сравнение средних):\n",
    "\n",
    "p_value = st.ttest_ind(df_count_product.query(\"group == 'test'\").count_products, \\\n",
    "                       df_count_product.query(\"group == 'control'\").count_products).pvalue\n",
    "print(f'pvalue = {round(p_value, 3)}')\n",
    "\n",
    "statistic_result(p_value)"
   ]
  },
  {
   "cell_type": "markdown",
   "metadata": {},
   "source": [
    "### Вывод №3:\n",
    "\n",
    "Результаты T-test'а не позволяют нам отклонить нулевую гипотезу (H0), следовательно, мы не можем утверждать, что новая система рекомендаций товаров приводит изменению количества продуктов в заказе. Предположение не подтвердилось.<br/> "
   ]
  },
  {
   "cell_type": "markdown",
   "metadata": {},
   "source": [
    "## 4. Средний доход с пользователя (ARPU)\n",
    "\n",
    "Как уже известно, новая система рекомендаций привела к увеличению количества заказов у пользователей. Остается проверить привело ли это изменение к изменению дохода бизнеса. В случае, если доход увеличился, то можно предположить, что  средний чек заказов как минимум не изменился, а может даже и увеличился (что маловероятно, но система потенциально может рекомендовать товары лучшего качества по более высокой цене)."
   ]
  },
  {
   "cell_type": "code",
   "execution_count": 51,
   "metadata": {},
   "outputs": [
    {
     "data": {
      "text/html": [
       "<div>\n",
       "<style scoped>\n",
       "    .dataframe tbody tr th:only-of-type {\n",
       "        vertical-align: middle;\n",
       "    }\n",
       "\n",
       "    .dataframe tbody tr th {\n",
       "        vertical-align: top;\n",
       "    }\n",
       "\n",
       "    .dataframe thead th {\n",
       "        text-align: right;\n",
       "    }\n",
       "</style>\n",
       "<table border=\"1\" class=\"dataframe\">\n",
       "  <thead>\n",
       "    <tr style=\"text-align: right;\">\n",
       "      <th></th>\n",
       "      <th>user_id</th>\n",
       "      <th>order_id</th>\n",
       "      <th>action</th>\n",
       "      <th>time</th>\n",
       "      <th>date</th>\n",
       "      <th>group</th>\n",
       "      <th>creation_time</th>\n",
       "      <th>product_ids</th>\n",
       "      <th>count_products</th>\n",
       "    </tr>\n",
       "  </thead>\n",
       "  <tbody>\n",
       "    <tr>\n",
       "      <th>0</th>\n",
       "      <td>964</td>\n",
       "      <td>1255</td>\n",
       "      <td>create_order</td>\n",
       "      <td>2022-08-26 00:00:19.000000</td>\n",
       "      <td>2022-08-26</td>\n",
       "      <td>control</td>\n",
       "      <td>2022-08-26 00:00:19.000000</td>\n",
       "      <td>[75,  22,  53,  84]</td>\n",
       "      <td>4</td>\n",
       "    </tr>\n",
       "    <tr>\n",
       "      <th>1</th>\n",
       "      <td>965</td>\n",
       "      <td>1256</td>\n",
       "      <td>create_order</td>\n",
       "      <td>2022-08-26 00:02:21.000000</td>\n",
       "      <td>2022-08-26</td>\n",
       "      <td>test</td>\n",
       "      <td>2022-08-26 00:02:21.000000</td>\n",
       "      <td>[56,  76,  39]</td>\n",
       "      <td>3</td>\n",
       "    </tr>\n",
       "    <tr>\n",
       "      <th>2</th>\n",
       "      <td>964</td>\n",
       "      <td>1257</td>\n",
       "      <td>create_order</td>\n",
       "      <td>2022-08-26 00:02:27.000000</td>\n",
       "      <td>2022-08-26</td>\n",
       "      <td>control</td>\n",
       "      <td>2022-08-26 00:02:27.000000</td>\n",
       "      <td>[76,  34,  41,  38]</td>\n",
       "      <td>4</td>\n",
       "    </tr>\n",
       "    <tr>\n",
       "      <th>3</th>\n",
       "      <td>967</td>\n",
       "      <td>1259</td>\n",
       "      <td>create_order</td>\n",
       "      <td>2022-08-26 00:03:37.000000</td>\n",
       "      <td>2022-08-26</td>\n",
       "      <td>test</td>\n",
       "      <td>2022-08-26 00:03:37.000000</td>\n",
       "      <td>[20,  45,  67,  26]</td>\n",
       "      <td>4</td>\n",
       "    </tr>\n",
       "    <tr>\n",
       "      <th>4</th>\n",
       "      <td>968</td>\n",
       "      <td>1261</td>\n",
       "      <td>create_order</td>\n",
       "      <td>2022-08-26 00:05:35.000000</td>\n",
       "      <td>2022-08-26</td>\n",
       "      <td>control</td>\n",
       "      <td>2022-08-26 00:05:35.000000</td>\n",
       "      <td>[30,  35,  69,  6]</td>\n",
       "      <td>4</td>\n",
       "    </tr>\n",
       "  </tbody>\n",
       "</table>\n",
       "</div>"
      ],
      "text/plain": [
       "   user_id  order_id        action                        time        date  \\\n",
       "0      964      1255  create_order  2022-08-26 00:00:19.000000  2022-08-26   \n",
       "1      965      1256  create_order  2022-08-26 00:02:21.000000  2022-08-26   \n",
       "2      964      1257  create_order  2022-08-26 00:02:27.000000  2022-08-26   \n",
       "3      967      1259  create_order  2022-08-26 00:03:37.000000  2022-08-26   \n",
       "4      968      1261  create_order  2022-08-26 00:05:35.000000  2022-08-26   \n",
       "\n",
       "     group               creation_time          product_ids  count_products  \n",
       "0  control  2022-08-26 00:00:19.000000  [75,  22,  53,  84]               4  \n",
       "1     test  2022-08-26 00:02:21.000000       [56,  76,  39]               3  \n",
       "2  control  2022-08-26 00:02:27.000000  [76,  34,  41,  38]               4  \n",
       "3     test  2022-08-26 00:03:37.000000  [20,  45,  67,  26]               4  \n",
       "4  control  2022-08-26 00:05:35.000000   [30,  35,  69,  6]               4  "
      ]
     },
     "execution_count": 51,
     "metadata": {},
     "output_type": "execute_result"
    }
   ],
   "source": [
    "# Создадим список продуктов в каждом заказе\n",
    "\n",
    "df_count_product['product_ids'] = df_count_product.product_ids.apply(lambda x: x.strip('{}').split(','))\n",
    "df_count_product.head()"
   ]
  },
  {
   "cell_type": "code",
   "execution_count": 52,
   "metadata": {},
   "outputs": [
    {
     "data": {
      "text/html": [
       "<div>\n",
       "<style scoped>\n",
       "    .dataframe tbody tr th:only-of-type {\n",
       "        vertical-align: middle;\n",
       "    }\n",
       "\n",
       "    .dataframe tbody tr th {\n",
       "        vertical-align: top;\n",
       "    }\n",
       "\n",
       "    .dataframe thead th {\n",
       "        text-align: right;\n",
       "    }\n",
       "</style>\n",
       "<table border=\"1\" class=\"dataframe\">\n",
       "  <thead>\n",
       "    <tr style=\"text-align: right;\">\n",
       "      <th></th>\n",
       "      <th>user_id</th>\n",
       "      <th>order_id</th>\n",
       "      <th>action</th>\n",
       "      <th>time</th>\n",
       "      <th>date</th>\n",
       "      <th>group</th>\n",
       "      <th>product_id</th>\n",
       "    </tr>\n",
       "  </thead>\n",
       "  <tbody>\n",
       "    <tr>\n",
       "      <th>0</th>\n",
       "      <td>964</td>\n",
       "      <td>1255</td>\n",
       "      <td>create_order</td>\n",
       "      <td>2022-08-26 00:00:19.000000</td>\n",
       "      <td>2022-08-26</td>\n",
       "      <td>control</td>\n",
       "      <td>75</td>\n",
       "    </tr>\n",
       "    <tr>\n",
       "      <th>0</th>\n",
       "      <td>964</td>\n",
       "      <td>1255</td>\n",
       "      <td>create_order</td>\n",
       "      <td>2022-08-26 00:00:19.000000</td>\n",
       "      <td>2022-08-26</td>\n",
       "      <td>control</td>\n",
       "      <td>22</td>\n",
       "    </tr>\n",
       "    <tr>\n",
       "      <th>0</th>\n",
       "      <td>964</td>\n",
       "      <td>1255</td>\n",
       "      <td>create_order</td>\n",
       "      <td>2022-08-26 00:00:19.000000</td>\n",
       "      <td>2022-08-26</td>\n",
       "      <td>control</td>\n",
       "      <td>53</td>\n",
       "    </tr>\n",
       "    <tr>\n",
       "      <th>0</th>\n",
       "      <td>964</td>\n",
       "      <td>1255</td>\n",
       "      <td>create_order</td>\n",
       "      <td>2022-08-26 00:00:19.000000</td>\n",
       "      <td>2022-08-26</td>\n",
       "      <td>control</td>\n",
       "      <td>84</td>\n",
       "    </tr>\n",
       "    <tr>\n",
       "      <th>1</th>\n",
       "      <td>965</td>\n",
       "      <td>1256</td>\n",
       "      <td>create_order</td>\n",
       "      <td>2022-08-26 00:02:21.000000</td>\n",
       "      <td>2022-08-26</td>\n",
       "      <td>test</td>\n",
       "      <td>56</td>\n",
       "    </tr>\n",
       "    <tr>\n",
       "      <th>...</th>\n",
       "      <td>...</td>\n",
       "      <td>...</td>\n",
       "      <td>...</td>\n",
       "      <td>...</td>\n",
       "      <td>...</td>\n",
       "      <td>...</td>\n",
       "      <td>...</td>\n",
       "    </tr>\n",
       "    <tr>\n",
       "      <th>3907</th>\n",
       "      <td>1461</td>\n",
       "      <td>59487</td>\n",
       "      <td>create_order</td>\n",
       "      <td>2022-09-08 23:29:06.000000</td>\n",
       "      <td>2022-09-08</td>\n",
       "      <td>control</td>\n",
       "      <td>9</td>\n",
       "    </tr>\n",
       "    <tr>\n",
       "      <th>3907</th>\n",
       "      <td>1461</td>\n",
       "      <td>59487</td>\n",
       "      <td>create_order</td>\n",
       "      <td>2022-09-08 23:29:06.000000</td>\n",
       "      <td>2022-09-08</td>\n",
       "      <td>control</td>\n",
       "      <td>62</td>\n",
       "    </tr>\n",
       "    <tr>\n",
       "      <th>3907</th>\n",
       "      <td>1461</td>\n",
       "      <td>59487</td>\n",
       "      <td>create_order</td>\n",
       "      <td>2022-09-08 23:29:06.000000</td>\n",
       "      <td>2022-09-08</td>\n",
       "      <td>control</td>\n",
       "      <td>77</td>\n",
       "    </tr>\n",
       "    <tr>\n",
       "      <th>3908</th>\n",
       "      <td>1376</td>\n",
       "      <td>59533</td>\n",
       "      <td>create_order</td>\n",
       "      <td>2022-09-08 23:41:24.000000</td>\n",
       "      <td>2022-09-08</td>\n",
       "      <td>control</td>\n",
       "      <td>17</td>\n",
       "    </tr>\n",
       "    <tr>\n",
       "      <th>3908</th>\n",
       "      <td>1376</td>\n",
       "      <td>59533</td>\n",
       "      <td>create_order</td>\n",
       "      <td>2022-09-08 23:41:24.000000</td>\n",
       "      <td>2022-09-08</td>\n",
       "      <td>control</td>\n",
       "      <td>85</td>\n",
       "    </tr>\n",
       "  </tbody>\n",
       "</table>\n",
       "<p>13083 rows × 7 columns</p>\n",
       "</div>"
      ],
      "text/plain": [
       "      user_id  order_id        action                        time        date  \\\n",
       "0         964      1255  create_order  2022-08-26 00:00:19.000000  2022-08-26   \n",
       "0         964      1255  create_order  2022-08-26 00:00:19.000000  2022-08-26   \n",
       "0         964      1255  create_order  2022-08-26 00:00:19.000000  2022-08-26   \n",
       "0         964      1255  create_order  2022-08-26 00:00:19.000000  2022-08-26   \n",
       "1         965      1256  create_order  2022-08-26 00:02:21.000000  2022-08-26   \n",
       "...       ...       ...           ...                         ...         ...   \n",
       "3907     1461     59487  create_order  2022-09-08 23:29:06.000000  2022-09-08   \n",
       "3907     1461     59487  create_order  2022-09-08 23:29:06.000000  2022-09-08   \n",
       "3907     1461     59487  create_order  2022-09-08 23:29:06.000000  2022-09-08   \n",
       "3908     1376     59533  create_order  2022-09-08 23:41:24.000000  2022-09-08   \n",
       "3908     1376     59533  create_order  2022-09-08 23:41:24.000000  2022-09-08   \n",
       "\n",
       "        group product_id  \n",
       "0     control         75  \n",
       "0     control         22  \n",
       "0     control         53  \n",
       "0     control         84  \n",
       "1        test         56  \n",
       "...       ...        ...  \n",
       "3907  control          9  \n",
       "3907  control         62  \n",
       "3907  control         77  \n",
       "3908  control         17  \n",
       "3908  control         85  \n",
       "\n",
       "[13083 rows x 7 columns]"
      ]
     },
     "execution_count": 52,
     "metadata": {},
     "output_type": "execute_result"
    }
   ],
   "source": [
    "# Распакуем этот список и создадим датафрейм с информацией о товарах в заказах\n",
    "\n",
    "df_products_info = df_count_product.explode('product_ids') \\\n",
    "                                   .drop(['count_products', 'creation_time'], axis=1) \\\n",
    "                                   .rename(columns={'product_ids':'product_id'})\n",
    "df_products_info"
   ]
  },
  {
   "cell_type": "code",
   "execution_count": 53,
   "metadata": {},
   "outputs": [],
   "source": [
    "df_products_info['product_id'] = df_products_info.product_id.astype('int64')"
   ]
  },
  {
   "cell_type": "code",
   "execution_count": 54,
   "metadata": {},
   "outputs": [
    {
     "data": {
      "text/html": [
       "<div>\n",
       "<style scoped>\n",
       "    .dataframe tbody tr th:only-of-type {\n",
       "        vertical-align: middle;\n",
       "    }\n",
       "\n",
       "    .dataframe tbody tr th {\n",
       "        vertical-align: top;\n",
       "    }\n",
       "\n",
       "    .dataframe thead th {\n",
       "        text-align: right;\n",
       "    }\n",
       "</style>\n",
       "<table border=\"1\" class=\"dataframe\">\n",
       "  <thead>\n",
       "    <tr style=\"text-align: right;\">\n",
       "      <th></th>\n",
       "      <th>user_id</th>\n",
       "      <th>order_id</th>\n",
       "      <th>action</th>\n",
       "      <th>time</th>\n",
       "      <th>date</th>\n",
       "      <th>group</th>\n",
       "      <th>product_id</th>\n",
       "      <th>name</th>\n",
       "      <th>price</th>\n",
       "    </tr>\n",
       "  </thead>\n",
       "  <tbody>\n",
       "    <tr>\n",
       "      <th>0</th>\n",
       "      <td>964</td>\n",
       "      <td>1255</td>\n",
       "      <td>create_order</td>\n",
       "      <td>2022-08-26 00:00:19.000000</td>\n",
       "      <td>2022-08-26</td>\n",
       "      <td>control</td>\n",
       "      <td>75</td>\n",
       "      <td>сок ананасовый</td>\n",
       "      <td>120.0</td>\n",
       "    </tr>\n",
       "    <tr>\n",
       "      <th>1</th>\n",
       "      <td>964</td>\n",
       "      <td>1255</td>\n",
       "      <td>create_order</td>\n",
       "      <td>2022-08-26 00:00:19.000000</td>\n",
       "      <td>2022-08-26</td>\n",
       "      <td>control</td>\n",
       "      <td>22</td>\n",
       "      <td>сок мультифрукт</td>\n",
       "      <td>120.0</td>\n",
       "    </tr>\n",
       "    <tr>\n",
       "      <th>2</th>\n",
       "      <td>964</td>\n",
       "      <td>1255</td>\n",
       "      <td>create_order</td>\n",
       "      <td>2022-08-26 00:00:19.000000</td>\n",
       "      <td>2022-08-26</td>\n",
       "      <td>control</td>\n",
       "      <td>53</td>\n",
       "      <td>мука</td>\n",
       "      <td>78.3</td>\n",
       "    </tr>\n",
       "    <tr>\n",
       "      <th>3</th>\n",
       "      <td>964</td>\n",
       "      <td>1255</td>\n",
       "      <td>create_order</td>\n",
       "      <td>2022-08-26 00:00:19.000000</td>\n",
       "      <td>2022-08-26</td>\n",
       "      <td>control</td>\n",
       "      <td>84</td>\n",
       "      <td>мандарины</td>\n",
       "      <td>90.4</td>\n",
       "    </tr>\n",
       "    <tr>\n",
       "      <th>4</th>\n",
       "      <td>965</td>\n",
       "      <td>1256</td>\n",
       "      <td>create_order</td>\n",
       "      <td>2022-08-26 00:02:21.000000</td>\n",
       "      <td>2022-08-26</td>\n",
       "      <td>test</td>\n",
       "      <td>56</td>\n",
       "      <td>сосиски</td>\n",
       "      <td>150.0</td>\n",
       "    </tr>\n",
       "    <tr>\n",
       "      <th>...</th>\n",
       "      <td>...</td>\n",
       "      <td>...</td>\n",
       "      <td>...</td>\n",
       "      <td>...</td>\n",
       "      <td>...</td>\n",
       "      <td>...</td>\n",
       "      <td>...</td>\n",
       "      <td>...</td>\n",
       "      <td>...</td>\n",
       "    </tr>\n",
       "    <tr>\n",
       "      <th>13078</th>\n",
       "      <td>1461</td>\n",
       "      <td>59487</td>\n",
       "      <td>create_order</td>\n",
       "      <td>2022-09-08 23:29:06.000000</td>\n",
       "      <td>2022-09-08</td>\n",
       "      <td>control</td>\n",
       "      <td>9</td>\n",
       "      <td>чай черный листовой</td>\n",
       "      <td>83.5</td>\n",
       "    </tr>\n",
       "    <tr>\n",
       "      <th>13079</th>\n",
       "      <td>1461</td>\n",
       "      <td>59487</td>\n",
       "      <td>create_order</td>\n",
       "      <td>2022-09-08 23:29:06.000000</td>\n",
       "      <td>2022-09-08</td>\n",
       "      <td>control</td>\n",
       "      <td>62</td>\n",
       "      <td>сок яблочный</td>\n",
       "      <td>120.0</td>\n",
       "    </tr>\n",
       "    <tr>\n",
       "      <th>13080</th>\n",
       "      <td>1461</td>\n",
       "      <td>59487</td>\n",
       "      <td>create_order</td>\n",
       "      <td>2022-09-08 23:29:06.000000</td>\n",
       "      <td>2022-09-08</td>\n",
       "      <td>control</td>\n",
       "      <td>77</td>\n",
       "      <td>курица</td>\n",
       "      <td>298.4</td>\n",
       "    </tr>\n",
       "    <tr>\n",
       "      <th>13081</th>\n",
       "      <td>1376</td>\n",
       "      <td>59533</td>\n",
       "      <td>create_order</td>\n",
       "      <td>2022-09-08 23:41:24.000000</td>\n",
       "      <td>2022-09-08</td>\n",
       "      <td>control</td>\n",
       "      <td>17</td>\n",
       "      <td>морс брусничный</td>\n",
       "      <td>190.0</td>\n",
       "    </tr>\n",
       "    <tr>\n",
       "      <th>13082</th>\n",
       "      <td>1376</td>\n",
       "      <td>59533</td>\n",
       "      <td>create_order</td>\n",
       "      <td>2022-09-08 23:41:24.000000</td>\n",
       "      <td>2022-09-08</td>\n",
       "      <td>control</td>\n",
       "      <td>85</td>\n",
       "      <td>варенье</td>\n",
       "      <td>200.3</td>\n",
       "    </tr>\n",
       "  </tbody>\n",
       "</table>\n",
       "<p>13083 rows × 9 columns</p>\n",
       "</div>"
      ],
      "text/plain": [
       "       user_id  order_id        action                        time  \\\n",
       "0          964      1255  create_order  2022-08-26 00:00:19.000000   \n",
       "1          964      1255  create_order  2022-08-26 00:00:19.000000   \n",
       "2          964      1255  create_order  2022-08-26 00:00:19.000000   \n",
       "3          964      1255  create_order  2022-08-26 00:00:19.000000   \n",
       "4          965      1256  create_order  2022-08-26 00:02:21.000000   \n",
       "...        ...       ...           ...                         ...   \n",
       "13078     1461     59487  create_order  2022-09-08 23:29:06.000000   \n",
       "13079     1461     59487  create_order  2022-09-08 23:29:06.000000   \n",
       "13080     1461     59487  create_order  2022-09-08 23:29:06.000000   \n",
       "13081     1376     59533  create_order  2022-09-08 23:41:24.000000   \n",
       "13082     1376     59533  create_order  2022-09-08 23:41:24.000000   \n",
       "\n",
       "             date    group  product_id                 name  price  \n",
       "0      2022-08-26  control          75       сок ананасовый  120.0  \n",
       "1      2022-08-26  control          22      сок мультифрукт  120.0  \n",
       "2      2022-08-26  control          53                 мука   78.3  \n",
       "3      2022-08-26  control          84            мандарины   90.4  \n",
       "4      2022-08-26     test          56              сосиски  150.0  \n",
       "...           ...      ...         ...                  ...    ...  \n",
       "13078  2022-09-08  control           9  чай черный листовой   83.5  \n",
       "13079  2022-09-08  control          62         сок яблочный  120.0  \n",
       "13080  2022-09-08  control          77               курица  298.4  \n",
       "13081  2022-09-08  control          17      морс брусничный  190.0  \n",
       "13082  2022-09-08  control          85              варенье  200.3  \n",
       "\n",
       "[13083 rows x 9 columns]"
      ]
     },
     "execution_count": 54,
     "metadata": {},
     "output_type": "execute_result"
    }
   ],
   "source": [
    "# Датафрейм с полной информацией о товарах в заказах\n",
    "\n",
    "df_products_info = df_products_info.merge(ab_products, how='left', on='product_id')\n",
    "df_products_info"
   ]
  },
  {
   "cell_type": "code",
   "execution_count": 55,
   "metadata": {},
   "outputs": [
    {
     "data": {
      "text/html": [
       "<div>\n",
       "<style scoped>\n",
       "    .dataframe tbody tr th:only-of-type {\n",
       "        vertical-align: middle;\n",
       "    }\n",
       "\n",
       "    .dataframe tbody tr th {\n",
       "        vertical-align: top;\n",
       "    }\n",
       "\n",
       "    .dataframe thead th {\n",
       "        text-align: right;\n",
       "    }\n",
       "</style>\n",
       "<table border=\"1\" class=\"dataframe\">\n",
       "  <thead>\n",
       "    <tr style=\"text-align: right;\">\n",
       "      <th></th>\n",
       "      <th>user_id</th>\n",
       "      <th>group</th>\n",
       "      <th>price</th>\n",
       "    </tr>\n",
       "  </thead>\n",
       "  <tbody>\n",
       "    <tr>\n",
       "      <th>0</th>\n",
       "      <td>964</td>\n",
       "      <td>control</td>\n",
       "      <td>718.9</td>\n",
       "    </tr>\n",
       "    <tr>\n",
       "      <th>1</th>\n",
       "      <td>965</td>\n",
       "      <td>test</td>\n",
       "      <td>4155.5</td>\n",
       "    </tr>\n",
       "    <tr>\n",
       "      <th>2</th>\n",
       "      <td>967</td>\n",
       "      <td>test</td>\n",
       "      <td>1137.4</td>\n",
       "    </tr>\n",
       "    <tr>\n",
       "      <th>3</th>\n",
       "      <td>968</td>\n",
       "      <td>control</td>\n",
       "      <td>1590.7</td>\n",
       "    </tr>\n",
       "    <tr>\n",
       "      <th>4</th>\n",
       "      <td>969</td>\n",
       "      <td>control</td>\n",
       "      <td>681.9</td>\n",
       "    </tr>\n",
       "    <tr>\n",
       "      <th>...</th>\n",
       "      <td>...</td>\n",
       "      <td>...</td>\n",
       "      <td>...</td>\n",
       "    </tr>\n",
       "    <tr>\n",
       "      <th>1008</th>\n",
       "      <td>1976</td>\n",
       "      <td>test</td>\n",
       "      <td>2001.9</td>\n",
       "    </tr>\n",
       "    <tr>\n",
       "      <th>1009</th>\n",
       "      <td>1977</td>\n",
       "      <td>test</td>\n",
       "      <td>781.2</td>\n",
       "    </tr>\n",
       "    <tr>\n",
       "      <th>1010</th>\n",
       "      <td>1978</td>\n",
       "      <td>test</td>\n",
       "      <td>2276.3</td>\n",
       "    </tr>\n",
       "    <tr>\n",
       "      <th>1011</th>\n",
       "      <td>1979</td>\n",
       "      <td>test</td>\n",
       "      <td>1907.1</td>\n",
       "    </tr>\n",
       "    <tr>\n",
       "      <th>1012</th>\n",
       "      <td>1980</td>\n",
       "      <td>test</td>\n",
       "      <td>2475.9</td>\n",
       "    </tr>\n",
       "  </tbody>\n",
       "</table>\n",
       "<p>1013 rows × 3 columns</p>\n",
       "</div>"
      ],
      "text/plain": [
       "      user_id    group   price\n",
       "0         964  control   718.9\n",
       "1         965     test  4155.5\n",
       "2         967     test  1137.4\n",
       "3         968  control  1590.7\n",
       "4         969  control   681.9\n",
       "...       ...      ...     ...\n",
       "1008     1976     test  2001.9\n",
       "1009     1977     test   781.2\n",
       "1010     1978     test  2276.3\n",
       "1011     1979     test  1907.1\n",
       "1012     1980     test  2475.9\n",
       "\n",
       "[1013 rows x 3 columns]"
      ]
     },
     "execution_count": 55,
     "metadata": {},
     "output_type": "execute_result"
    }
   ],
   "source": [
    "# Рассчтаем доход с каждого пользователя\n",
    "\n",
    "df_revenue = df_products_info \\\n",
    "    .groupby(['user_id','group'], as_index=False) \\\n",
    "    .agg({'price':'sum'}) \\\n",
    "    .round(2)\n",
    "df_revenue"
   ]
  },
  {
   "cell_type": "code",
   "execution_count": 56,
   "metadata": {},
   "outputs": [
    {
     "data": {
      "text/plain": [
       "control    512\n",
       "test       501\n",
       "Name: group, dtype: int64"
      ]
     },
     "execution_count": 56,
     "metadata": {},
     "output_type": "execute_result"
    }
   ],
   "source": [
    "# Размер выборки тестовой и контрольной групп\n",
    "\n",
    "df_revenue.group.value_counts()"
   ]
  },
  {
   "cell_type": "code",
   "execution_count": 57,
   "metadata": {},
   "outputs": [
    {
     "data": {
      "image/png": "[encoded data removed]",
      "text/plain": [
       "<Figure size 1016.01x504 with 2 Axes>"
      ]
     },
     "metadata": {},
     "output_type": "display_data"
    }
   ],
   "source": [
    "# Визуализация распределения дохода с пользователей\n",
    "\n",
    "sns.set(font_scale=1.4, style=\"darkgrid\")\n",
    "ax = sns.displot(df_revenue, height=7, aspect=0.9, x='price', hue='group', col='group', kde=True)\n",
    "ax.fig.suptitle('Distribution of Revenue', fontsize=20, y=1.05)\n",
    "ax.set(xlabel='Revenue per user')\n",
    "plt.show()"
   ]
  },
  {
   "cell_type": "markdown",
   "metadata": {},
   "source": [
    "### Проверим распределения на гомогенность дисперсий и нормальность\n",
    "\n",
    "Для проверки гомогенности дисперсий используем тест Левена, так как он менее чувствителен к отклонениям от нормальности, чем тесты Фишера и Бартлетта. Для проверки нормальности используем тест Шапиро-Уилка и Q-Q Plot графики."
   ]
  },
  {
   "cell_type": "code",
   "execution_count": 58,
   "metadata": {},
   "outputs": [
    {
     "name": "stdout",
     "output_type": "stream",
     "text": [
      "В рассмотренных распределениях дисперсии гомогенны = False\n",
      "pvalue = 1.896e-05\n"
     ]
    }
   ],
   "source": [
    "# Проверка гомогенности дисперсий по критерию Левена\n",
    "\n",
    "stat, p_val = st.levene(df_revenue.query(\"group == 'control'\").price, \\\n",
    "                        df_revenue.query(\"group == 'test'\").price)\n",
    "print(f'В рассмотренных распределениях дисперсии гомогенны = {p_val > 0.05}')\n",
    "print(f'pvalue = {round(p_val, 8)}')"
   ]
  },
  {
   "cell_type": "code",
   "execution_count": 59,
   "metadata": {},
   "outputs": [
    {
     "data": {
      "image/png": "[encoded data removed]",
      "text/plain": [
       "<Figure size 504x360 with 1 Axes>"
      ]
     },
     "metadata": {},
     "output_type": "display_data"
    },
    {
     "data": {
      "image/png": "[encoded data removed]",
      "text/plain": [
       "<Figure size 504x360 with 1 Axes>"
      ]
     },
     "metadata": {},
     "output_type": "display_data"
    }
   ],
   "source": [
    "# Проверка нормальности c помощью qqplot \n",
    "\n",
    "sns.set(font_scale=1.4, style=\"white\")\n",
    "\n",
    "fig1 = plt.figure(figsize=(7, 5))\n",
    "qqplot(df_revenue.query(\"group == 'control'\").price, line=\"r\", ax=fig1.add_subplot(111))\n",
    "plt.title(\"Q-Q Plot for groups (control and test)\", pad=10)\n",
    "\n",
    "fig2 = plt.figure(figsize=(7, 5))\n",
    "qqplot(df_revenue.query(\"group == 'test'\").price, line=\"r\", ax=fig2.add_subplot(111))\n",
    "plt.show()\n",
    "plt.close()"
   ]
  },
  {
   "cell_type": "markdown",
   "metadata": {},
   "source": [
    "**Примечание:** полученные Q-Q plot графики демонстрируют, что данные в группах не следуют нормальному распределению, поскольку точки на графиках значительно отклоняются от линии соответствия (особенно в хвостах)."
   ]
  },
  {
   "cell_type": "code",
   "execution_count": 60,
   "metadata": {},
   "outputs": [
    {
     "name": "stdout",
     "output_type": "stream",
     "text": [
      "Группа А (control): pvalue = 8.71e-19\n",
      "Группа B (test):    pvalue = 1.41e-07\n",
      "\n",
      "Группа А (control): Распределение нормальное = False\n",
      "Группа B (test):    Распределение нормальное = False\n"
     ]
    }
   ],
   "source": [
    "# Проверка нормальности распределения (тест Шапиро-Уилка)\n",
    "\n",
    "stat_A, p_val_A = st.shapiro(df_revenue.query(\"group == 'control'\").price)\n",
    "stat_B, p_val_B = st.shapiro(df_revenue.query(\"group == 'test'\").price)\n",
    "\n",
    "print(f'Группа А (control): pvalue = {round(p_val_A, 21)}')\n",
    "print(f'Группа B (test):    pvalue = {round(p_val_B, 9)}')\n",
    "\n",
    "print(f'\\nГруппа А (control): Распределение нормальное = {p_val_A > 0.05}')\n",
    "print(f'Группа B (test):    Распределение нормальное = {p_val_B > 0.05}')"
   ]
  },
  {
   "cell_type": "markdown",
   "metadata": {},
   "source": [
    "### Формулировка гипотез и выбор теста\n",
    "\n",
    "Для применения T-test'a выделяют следующие два основных требования:\n",
    "\n",
    " - Дисперсии внутри наших групп должны быть примерно одинаковы (требование гомогенности дисперсий).\n",
    " - Нормальность распределения данных обеих групп при применении t-теста. Во многих пособиях можно встретить довольно жесткое требование к нормальности данных по причине возможного завышения вероятности ошибки I рода. На практике t-тест может быть использован для сравнения средних и при ненормальном распределении, особенно на больших выборках и если в данных нет заметных выбросов.\n",
    "\n",
    "Для исследуемой метрики параметрические требования не выполняются: дисперсии не гомогенны и данные распределены ненормально, однако выборка довольна большая и отсутствуют выбросы, поэтому нормальностью распределения можно пренебречь, а различие в дисперсиях учесть при проведении тестирования → **используем T-test Уэлча**\n",
    "\n",
    "- $H_0$: в генеральной совокупности никакого различия между средним доходом с пользователя нет \n",
    "- $H_1$: в генеральной совокупности средний доход с пользователя различается"
   ]
  },
  {
   "cell_type": "code",
   "execution_count": 61,
   "metadata": {
    "scrolled": true
   },
   "outputs": [
    {
     "name": "stdout",
     "output_type": "stream",
     "text": [
      "pvalue = 1.57e-27\n",
      "\n",
      "Отклоняем нулевую гипотезу H0\n"
     ]
    }
   ],
   "source": [
    "# T-test Уэлча (сравнение средних):\n",
    "\n",
    "p_value = st.ttest_ind(df_revenue.query(\"group == 'test'\").price, \\\n",
    "                      df_revenue.query(\"group == 'control'\").price, equal_var=False).pvalue\n",
    "print(f'pvalue = {round(p_value, 29)}')\n",
    "\n",
    "statistic_result(p_value)"
   ]
  },
  {
   "cell_type": "markdown",
   "metadata": {},
   "source": [
    "### Дополнительно\n",
    "\n",
    "Для надежности вывода проведем сравнение доверительных интервалов для средних с помощью **Bootstrap** (необязательно):"
   ]
  },
  {
   "cell_type": "code",
   "execution_count": 62,
   "metadata": {},
   "outputs": [
    {
     "data": {
      "text/plain": [
       "array([1670.52, 1834.13])"
      ]
     },
     "execution_count": 62,
     "metadata": {},
     "output_type": "execute_result"
    }
   ],
   "source": [
    "# Бутстрап среднего (тестовая группа)\n",
    "\n",
    "pg.compute_bootci(df_revenue.query(\"group == 'test'\").price, func='mean')"
   ]
  },
  {
   "cell_type": "code",
   "execution_count": 63,
   "metadata": {},
   "outputs": [
    {
     "data": {
      "text/plain": [
       "array([1072.73, 1211.66])"
      ]
     },
     "execution_count": 63,
     "metadata": {},
     "output_type": "execute_result"
    }
   ],
   "source": [
    "# Бутстрап среднего (контрольная группа)\n",
    "\n",
    "pg.compute_bootci(df_revenue.query(\"group == 'control'\").price, func='mean')"
   ]
  },
  {
   "cell_type": "code",
   "execution_count": 64,
   "metadata": {},
   "outputs": [
    {
     "data": {
      "text/html": [
       "<div>\n",
       "<style scoped>\n",
       "    .dataframe tbody tr th:only-of-type {\n",
       "        vertical-align: middle;\n",
       "    }\n",
       "\n",
       "    .dataframe tbody tr th {\n",
       "        vertical-align: top;\n",
       "    }\n",
       "\n",
       "    .dataframe thead th {\n",
       "        text-align: right;\n",
       "    }\n",
       "</style>\n",
       "<table border=\"1\" class=\"dataframe\">\n",
       "  <thead>\n",
       "    <tr style=\"text-align: right;\">\n",
       "      <th></th>\n",
       "      <th>price</th>\n",
       "    </tr>\n",
       "    <tr>\n",
       "      <th>group</th>\n",
       "      <th></th>\n",
       "    </tr>\n",
       "  </thead>\n",
       "  <tbody>\n",
       "    <tr>\n",
       "      <th>control</th>\n",
       "      <td>583455.9</td>\n",
       "    </tr>\n",
       "    <tr>\n",
       "      <th>test</th>\n",
       "      <td>878628.4</td>\n",
       "    </tr>\n",
       "  </tbody>\n",
       "</table>\n",
       "</div>"
      ],
      "text/plain": [
       "            price\n",
       "group            \n",
       "control  583455.9\n",
       "test     878628.4"
      ]
     },
     "execution_count": 64,
     "metadata": {},
     "output_type": "execute_result"
    }
   ],
   "source": [
    "# Общий доход бизнеса по группам за время тестирования\n",
    "\n",
    "df_revenue.groupby('group').agg({'price':'sum'})"
   ]
  },
  {
   "cell_type": "markdown",
   "metadata": {},
   "source": [
    "### Вывод №4:\n",
    "\n",
    "По результатам T-test'а отвергаем нулевую гипотезу и принимаем альтернативную (H1): **в генеральной совокупности средний доход с пользователя различается**. <br/> \n",
    "\n",
    "Данную альтернативную гипотезу также подтвердил проведенный bootstrap, где доверительные интервалы средних не пересекаются. По построенным гистограммам и проведенному статистическому тесту заключаем, что в тестовой группе (1) доход с пользователя статистически значимо больше, чем в контрольной группе (0).<br/> \n",
    "\n",
    "К слову, общий доход с пользователей тестовой группы также оказался больше дохода с пользователей контрольной группы, что лишний раз подтверждает наши выводы."
   ]
  },
  {
   "cell_type": "markdown",
   "metadata": {},
   "source": [
    "## Заключение:\n",
    "\n",
    "### По результатам анализа эффективности новой системы рекомендаций товаров не было выявлено значительных изменений в доле отмененных заказов и среднем количестве продуктов в заказах, однако новая система статистически значимо увеличивает средний доход бизнеса c пользователя и среднее количество заказов на пользователя.\n",
    "\n",
    "### Следовательно, система считается эффективной и рекомендуется включать ее для всех пользователей приложения."
   ]
  }
 ],
 "metadata": {
  "kernelspec": {
   "display_name": "Python 3",
   "language": "python",
   "name": "python3"
  },
  "language_info": {
   "codemirror_mode": {
    "name": "ipython",
    "version": 3
   },
   "file_extension": ".py",
   "mimetype": "text/x-python",
   "name": "python",
   "nbconvert_exporter": "python",
   "pygments_lexer": "ipython3",
   "version": "3.7.3"
  }
 },
 "nbformat": 4,
 "nbformat_minor": 4
}
